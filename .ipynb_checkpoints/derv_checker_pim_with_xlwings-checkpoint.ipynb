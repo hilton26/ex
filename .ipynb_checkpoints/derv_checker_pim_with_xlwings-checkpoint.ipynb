{
 "cells": [
  {
   "cell_type": "code",
   "execution_count": 1,
   "id": "81254509",
   "metadata": {},
   "outputs": [],
   "source": [
    "# create a time difference function\n",
    "import datetime\n",
    "\n",
    "def timediff(start, end, decimals = 1):\n",
    "    if int((end - start)/3600) > 0: # non-zero hours\n",
    "        return str(int((end - start)/3600)) + 'hr ' + str(int((end - start)/60)) +'min ' + str(round((end - start) % 60,decimals)) + 'sec'\n",
    "    elif int((end - start)/60) > 0: # non-zero hours and minutes\n",
    "        return str(int((end - start)/60)) +'min ' + str(round((end - start) % 60, decimals)) + 'sec'\n",
    "    else:\n",
    "        return str(round((end - start) % 60,decimals)) + 'sec'\n",
    "    "
   ]
  },
  {
   "cell_type": "code",
   "execution_count": 2,
   "id": "6c722ac2",
   "metadata": {
    "scrolled": true
   },
   "outputs": [
    {
     "name": "stdout",
     "output_type": "stream",
     "text": [
      "1.5sec\n"
     ]
    }
   ],
   "source": [
    "# import libraries\n",
    "import time # to calculate durations of runs\n",
    "start_time = time.time()\n",
    "start_time_overlord = time.time()\n",
    "\n",
    "import pandas as pd\n",
    "import xlwings as xw\n",
    "from pathlib import Path\n",
    "import os, shutil\n",
    "import win32com.client as win32 # library to convert xls to xlsx\n",
    "excel = win32.gencache.EnsureDispatch('Excel.Application')\n",
    "\n",
    "# get current path\n",
    "# print(os.path)\n",
    "\n",
    "from tqdm import tqdm, notebook # notebook version of tqdm\n",
    "#\" ...any time you see a loop somewhere in your code in you can simply wrap it in either tdqm() or tqdm_notebook() in Jupyter\" \n",
    "\n",
    "print(timediff(start_time, time.time()))"
   ]
  },
  {
   "cell_type": "code",
   "execution_count": 3,
   "id": "0defec1c",
   "metadata": {},
   "outputs": [
    {
     "name": "stdout",
     "output_type": "stream",
     "text": [
      "0.0sec\n"
     ]
    }
   ],
   "source": [
    "# set location paths for the sheets to be used\n",
    "start_time = time.time()\n",
    "\n",
    "pthDx         = r'C:\\Users\\hilton.netta\\Downloads' # path to where the Eagle holdings and deltas files were downloaded\n",
    "fPARN         = pthDx + '\\Portfolio Analytics Report - New.xls'\n",
    "fDE           = pthDx + '\\Derivative Exposure.xls'\n",
    "pthLOCAL      = r'C:\\Users\\hilton.netta\\Documents\\DervFiles' # path to were the files will be saved temporarily\n",
    "pthEXPORTS    = r'P:\\Investment Operations\\GRC\\Compliance\\Derivative Cover'\n",
    "pthDerv       = r'P:\\Investment Operations\\GRC\\Compliance\\Daily'\n",
    "pthFundCodes  = pthDerv + r'\\2A - Fund Codes, Breach Register.xlsx'\n",
    "pthOverdrafts = r'\\\\pim-cpt-statpro\\SPC_602\\Client\\Profiles\\PIM\\overdrafts'\n",
    "pthMandates   = 'P:\\Investment Operations\\GRC\\Compliance\\Client Mandates' # path to Word summaries of mandates\n",
    "\n",
    "print(timediff(start_time, time.time()))"
   ]
  },
  {
   "cell_type": "code",
   "execution_count": 4,
   "id": "5661b15a",
   "metadata": {},
   "outputs": [
    {
     "data": {
      "application/vnd.jupyter.widget-view+json": {
       "model_id": "852b461b0c234a3f9ee016806a488c57",
       "version_major": 2,
       "version_minor": 0
      },
      "text/plain": [
       "  0%|          | 0/2 [00:00<?, ?it/s]"
      ]
     },
     "metadata": {},
     "output_type": "display_data"
    },
    {
     "name": "stdout",
     "output_type": "stream",
     "text": [
      "1.6sec\n"
     ]
    }
   ],
   "source": [
    "# convert .xls to .xlsx using MS Office for the Eagle holdings and derivative delta files\n",
    "start_time = time.time()\n",
    "\n",
    "files = [fPARN, fDE]\n",
    "\n",
    "excel.DisplayAlerts = False # suppress the warning dialogue\n",
    "\n",
    "for fl in notebook.tqdm(files):\n",
    "    xl = win32.gencache.EnsureDispatch('Excel.Application')\n",
    "    wb = excel.Workbooks.Open(fl)\n",
    "\n",
    "    wb.SaveAs(fl + 'x', FileFormat = 51)     #FileFormat = 51 is for .xlsx extension\n",
    "    wb.Close()                               #FileFormat = 56 is for .xls extension\n",
    "\n",
    "excel.DisplayAlerts = True # unsuppress Excel warning dialogue\n",
    "\n",
    "#excel.Application.Quit()\n",
    "\n",
    "print(timediff(start_time, time.time()))"
   ]
  },
  {
   "cell_type": "code",
   "execution_count": 5,
   "id": "16865e66",
   "metadata": {},
   "outputs": [
    {
     "name": "stdout",
     "output_type": "stream",
     "text": [
      "1.7sec\n"
     ]
    }
   ],
   "source": [
    "# make dataframes out of the Eagle fund holdings and deltas .XLSX workbooks\n",
    "start_time = time.time()\n",
    "\n",
    "# create dataframes of the holdings and deltas spreadsheets\n",
    "wbD = pd.read_excel(open(pthDx + '/Derivative Exposure.xlsx','rb'), sheet_name = 'Derivative Exposure')\n",
    "wbH = pd.read_excel(open(pthDx + '/Portfolio Analytics Report - New.xlsx','rb'), sheet_name = 'Portfolio Analytics Report - Ne')\n",
    "\n",
    "# get the report date and list of fund names\n",
    "rptDate = wbH.iloc[0, 35].strftime(\"%d%b%Y\") # 1st row 36th column contains the report date\n",
    "fnames  = wbH['Entity Name'].unique() # list of the fund names in the holdings file, resulting type = numpy.ndarray\n",
    "\n",
    "print(timediff(start_time, time.time()))"
   ]
  },
  {
   "cell_type": "code",
   "execution_count": 6,
   "id": "c6e48688",
   "metadata": {},
   "outputs": [
    {
     "data": {
      "application/vnd.jupyter.widget-view+json": {
       "model_id": "153791f636d74b0b8621d95db2978aaf",
       "version_major": 2,
       "version_minor": 0
      },
      "text/plain": [
       "0it [00:00, ?it/s]"
      ]
     },
     "metadata": {},
     "output_type": "display_data"
    },
    {
     "name": "stdout",
     "output_type": "stream",
     "text": [
      "0.1sec\n"
     ]
    }
   ],
   "source": [
    "# change the '% of Total Market Value\" column (N) to the fund-specific % of NAV based on 'Sum of Market Value Income' column (M)\n",
    "start_time = time.time()\n",
    "\n",
    "navs = wbH.groupby('Entity ID')['Sum of Market Value Income'].sum() # (column N) this has type 'pandas.core.series.Series'\n",
    "nav  = navs.to_dict() # nav series changed to dictionary to make it lookupable\n",
    "\n",
    "# recalc the '% of Total Market Value' column per fund and ...\n",
    "newTMV = []\n",
    "for i, row in notebook.tqdm(wbH.iterrows()):\n",
    "    if nav[row['Entity ID']] == 0:\n",
    "        fndpct = 1\n",
    "    else:\n",
    "        fndpct = row['Sum of Market Value Income'] / nav[row['Entity ID']] * 100\n",
    "    newTMV.append(fndpct)\n",
    "    \n",
    "# ... replace the '% of Total Market Value' with the values in the new list\n",
    "wbH['% of Total Market Value'] = newTMV # wbH['% of Total Market Value'].sum(), check, should equal number of funds\n",
    "\n",
    "print(timediff(start_time, time.time()))"
   ]
  },
  {
   "cell_type": "code",
   "execution_count": 7,
   "id": "41250e5f",
   "metadata": {},
   "outputs": [
    {
     "data": {
      "application/vnd.jupyter.widget-view+json": {
       "model_id": "18982a5b27b947ab8f29f9d805d0ca10",
       "version_major": 2,
       "version_minor": 0
      },
      "text/plain": [
       "0it [00:00, ?it/s]"
      ]
     },
     "metadata": {},
     "output_type": "display_data"
    },
    {
     "name": "stdout",
     "output_type": "stream",
     "text": [
      "0.1sec\n"
     ]
    }
   ],
   "source": [
    "# change the 'Current Exposure %\" column (AI) to the fund-specific current % of NAV based on \"Current Exposure\" column (AH)\n",
    "start_time = time.time()\n",
    "\n",
    "# recalc the '% of Total Market Value' column per fund and ...\n",
    "newCEp = [] # new Current Exposure % column\n",
    "for i, row in notebook.tqdm(wbH.iterrows()):\n",
    "    if nav[row['Entity ID']] == 0:\n",
    "        currentexposurepct = 1\n",
    "    else:\n",
    "        currentexposurepct = row['Current Exposure'] / nav[row['Entity ID']] * 100\n",
    "    newCEp.append(currentexposurepct )\n",
    "    \n",
    "# ... replace the '% of Total Market Value' with the values in the new list\n",
    "wbH['Current Exposure %'] = newCEp # wbH['% of Total Market Value'].sum(), check, should equal number of funds\n",
    "\n",
    "print(timediff(start_time, time.time()))"
   ]
  },
  {
   "cell_type": "code",
   "execution_count": 8,
   "id": "ea4054f6",
   "metadata": {
    "scrolled": true
   },
   "outputs": [
    {
     "data": {
      "application/vnd.jupyter.widget-view+json": {
       "model_id": "820aeada78404dd597b9395a4be0a930",
       "version_major": 2,
       "version_minor": 0
      },
      "text/plain": [
       "  0%|          | 0/95 [00:00<?, ?it/s]"
      ]
     },
     "metadata": {},
     "output_type": "display_data"
    },
    {
     "name": "stdout",
     "output_type": "stream",
     "text": [
      "14min 21.8sec\n"
     ]
    }
   ],
   "source": [
    "# open the Derv calc workbook and then create the derivative checker files locally\n",
    "start_time = time.time()\n",
    "\n",
    "# open the Derv calc workbook as an object and then assign its data and deltas sheets\n",
    "wb   = xw.Book(pthDerv + r'\\derv.xlsx')\n",
    "shtH = wb.sheets['Data'] # sheet containing holdings as obtained from Eagle\n",
    "shtD = wb.sheets['Deltas'] # sheet containing derivative data as obtained from Eagle\n",
    "\n",
    "# create the derivative checker files\n",
    "excel.DisplayAlerts = False # suppress the warning dialogue\n",
    "for fname in notebook.tqdm(fnames):\n",
    "    shtH.clear() # clear the receiving holdings sheet\n",
    "    shtH.range('A1').options(index = False).value = wbH[wbH['Entity Name'] == fname]\n",
    "    shtD.clear() # clear the receiving deltas sheet    \n",
    "    shtD.range('A1').options(index = False).value = wbD[wbD['Entity Name'] == fname]\n",
    "    fndcode = wbH[wbH['Entity Name'] == fname].iloc[0, 36]\n",
    "    wb.save(os.path.join(pthLOCAL,f'{fndcode} Derv Calc {rptDate}.xlsx')) # save the file\n",
    "    \n",
    "# close the workbook\n",
    "wb.close()\n",
    "\n",
    "excel.DisplayAlerts = True # unsuppress the excel warning dialogues\n",
    "\n",
    "print(timediff(start_time, time.time()))"
   ]
  },
  {
   "cell_type": "code",
   "execution_count": 9,
   "id": "2cafc9dd",
   "metadata": {},
   "outputs": [
    {
     "name": "stderr",
     "output_type": "stream",
     "text": [
      "100%|██████████| 95/95 [00:08<00:00, 11.06it/s]"
     ]
    },
    {
     "name": "stdout",
     "output_type": "stream",
     "text": [
      "8.6sec\n"
     ]
    },
    {
     "name": "stderr",
     "output_type": "stream",
     "text": [
      "\n"
     ]
    }
   ],
   "source": [
    "# create and save the derivative cover summary file in the Exports folder and then clear the temporary local folder\n",
    "start_time = time.time()\n",
    "\n",
    "# copy the locally stored derivative calc files to a PIM network folder\n",
    "files = os.listdir(pthLOCAL)\n",
    "for file in tqdm(os.listdir(pthLOCAL)):\n",
    "    f = os.path.join(pthLOCAL, file)\n",
    "    shutil.copy(f, pthEXPORTS)\n",
    "\n",
    "print(timediff(start_time, time.time()))"
   ]
  },
  {
   "cell_type": "code",
   "execution_count": 10,
   "id": "73387af9",
   "metadata": {},
   "outputs": [
    {
     "name": "stderr",
     "output_type": "stream",
     "text": [
      "95it [02:04,  1.31s/it]\n"
     ]
    },
    {
     "name": "stdout",
     "output_type": "stream",
     "text": [
      "2min 7.4sec\n"
     ]
    }
   ],
   "source": [
    "# prepare the derivative cover summary sheet\n",
    "start_time = time.time()\n",
    "\n",
    "wbS = xw.Book(pthDerv + r'\\derv_summary.xlsx')\n",
    "shtS = wbS.sheets['S'] # derivative cover summary sheet\n",
    "\n",
    "fcodes = pd.DataFrame(wbH['Entity ID'].unique()) # turn frames from numpy.ndarray to a pandas dataframe\n",
    "fcodes.columns=['Entity ID'] # give the vector of fund codes a column name\n",
    "\n",
    "shtS.range('A1').options(index = False).value = fcodes # paste fund holdings onto the calc sheet from the source\n",
    "\n",
    "excel.DisplayAlerts = False # suppress the warning dialogue\n",
    "\n",
    "# display date of report\n",
    "shtS['A1'].add_hyperlink(pthEXPORTS,'Entity ID')\n",
    "shtS['A1'].font.bold = True\n",
    "shtS['O1'].add_hyperlink(pthEXPORTS)\n",
    "shtS['O1'].value = f'Derivative cover calcs {wbH.iloc[0, 35].strftime(\"%a %d %b %Y\")}'\n",
    "shtS['O1'].font.bold = True\n",
    "shtS['P1'].add_hyperlink(pthFundCodes,'Team')\n",
    "shtS['P1'].font.bold = True\n",
    "shtS['Q1'].add_hyperlink(pthOverdrafts,'PIM Overdrafts')\n",
    "shtS['Q1'].font.bold = True\n",
    "\n",
    "twoA = pd.read_excel(pthFundCodes, sheet_name = 'Funds')\n",
    "\n",
    "# summarise per fund results\n",
    "for index, row in tqdm(fcodes.iterrows()):\n",
    "    shtS['A' + str(index + 2)].add_hyperlink(fr'{pthMandates}\\{row[0]} Rules.docx',f'{row[0]}')\n",
    "    shtS['B' + str(index + 2)].value = fr\"='{pthEXPORTS}\\[{row[0]} Derv Calc {rptDate}.xlsx]Summary'!$G$3\"\n",
    "    shtS['C' + str(index + 2)].value = fr\"='{pthEXPORTS}\\[{row[0]} Derv Calc {rptDate}.xlsx]Summary'!$E$1\"\n",
    "    shtS['D' + str(index + 2)].value = fr\"='{pthEXPORTS}\\[{row[0]} Derv Calc {rptDate}.xlsx]Summary'!$C$35\"\n",
    "    shtS['E' + str(index + 2)].value = fr\"='{pthEXPORTS}\\[{row[0]} Derv Calc {rptDate}.xlsx]Summary'!$E$35/100\"\n",
    "    shtS['F' + str(index + 2)].value = fr\"='{pthEXPORTS}\\[{row[0]} Derv Calc {rptDate}.xlsx]Summary'!$C$37\"\n",
    "    shtS['G' + str(index + 2)].value = fr\"='{pthEXPORTS}\\[{row[0]} Derv Calc {rptDate}.xlsx]Summary'!$C$33\"\n",
    "    shtS['H' + str(index + 2)].value = fr\"='{pthEXPORTS}\\[{row[0]} Derv Calc {rptDate}.xlsx]Summary'!$E$6/100\"\n",
    "    shtS['I' + str(index + 2)].value = fr\"='{pthEXPORTS}\\[{row[0]} Derv Calc {rptDate}.xlsx]Summary'!$E$10/100\"\n",
    "    shtS['J' + str(index + 2)].value = fr\"='{pthEXPORTS}\\[{row[0]} Derv Calc {rptDate}.xlsx]Summary'!$E$14/100\"\n",
    "    shtS['K' + str(index + 2)].value = fr\"='{pthEXPORTS}\\[{row[0]} Derv Calc {rptDate}.xlsx]Summary'!$C$42\"\n",
    "    shtS['L' + str(index + 2)].value = fr\"='{pthEXPORTS}\\[{row[0]} Derv Calc {rptDate}.xlsx]Summary'!$C$56/100\"\n",
    "    shtS['M' + str(index + 2)].value = fr\"='{pthEXPORTS}\\[{row[0]} Derv Calc {rptDate}.xlsx]Glbl Expsr'!$D$2\"   \n",
    "    shtS['N' + str(index + 2)].value = fr\"='{pthEXPORTS}\\[{row[0]} Derv Calc {rptDate}.xlsx]Glbl Expsr'!$D$3\"\n",
    "    shtS['O' + str(index + 2)].add_hyperlink(fr'{pthEXPORTS}\\{row[0]} Derv Calc {rptDate}.xlsx',f'{row[0]} calc sheet')\n",
    "    shtS['P' + str(index + 2)].value = twoA.loc[twoA['Fund Code'] == f'{row[0]}'].iat[0,3] #investment team lookup\n",
    "    # Using at[] and iat[] instead of loc[] and iloc[]\n",
    "    # https://medium.com/codex/dont-use-loc-iloc-with-loops-in-python-instead-use-this-f9243289dde7\n",
    " \n",
    "# sort the results\n",
    "last_row         = shtS.range(1,1).end('down').row\n",
    "first_col_range  = shtS.range(f\"D2:D{last_row}\")\n",
    "second_col_range = shtS.range(f\"C2:C{last_row}\")\n",
    "third_col_range  = shtS.range(f\"B2:B{last_row}\")\n",
    "#data_range = shtS.range(f'A2:O{last_row}')\n",
    "shtS.range(f'A2:O{last_row}').api.Sort(Key1=first_col_range.api, Order1=2, Header=2, Orientation=1)\n",
    "shtS.range(f'A2:O{last_row}').api.Sort(Key1=second_col_range.api, Order1=2, Header=2, Orientation=1)\n",
    "shtS.range(f'A2:O{last_row}').api.Sort(Key1=third_col_range.api, Order1=2, Header=2, Orientation=1)\n",
    "\n",
    "# format the decimals\n",
    "# How to change the number format of the column that a range is, using xlwings pyhton\n",
    "#   https://stackoverflow.com/questions/66008147/how-to-change-the-number-format-of-the-column-that-a-range-is-using-xlwings-pyh\n",
    "# Excel Number Formats\n",
    "#   https://python-pptx.readthedocs.io/en/latest/api/enum/ExcelNumFormat.html\n",
    "shtS.range(f'D2:N{last_row}').api.EntireColumn.NumberFormat = \"0.0000%\"\n",
    "\n",
    "print(timediff(start_time, time.time()))"
   ]
  },
  {
   "cell_type": "code",
   "execution_count": 11,
   "id": "3622b05d",
   "metadata": {},
   "outputs": [
    {
     "name": "stderr",
     "output_type": "stream",
     "text": [
      "100%|██████████| 95/95 [00:00<00:00, 3392.58it/s]\n"
     ]
    },
    {
     "name": "stdout",
     "output_type": "stream",
     "text": [
      "4min 0.2sec\n"
     ]
    }
   ],
   "source": [
    "# save the holdings and deltas from Eagle on the day's summary sheet\n",
    "start_time = time.time()\n",
    "\n",
    "# set up the summary sheet\n",
    "shtH = wbS.sheets['Holdings'] # sheet containing all the fund holdings as obtained from Eagle\n",
    "shtH.clear() # clear the receiving holdings sheet\n",
    "shtH.range('A1').options(index = False).value = wbH # paste fund holdings onto the calc sheet from the source\n",
    "shtD = wbS.sheets['Deltas'] # sheet containing all the fund derivative data as obtained from Eagle\n",
    "shtD.clear() # clear the receiving deltas sheet    \n",
    "shtD.range('A1').options(index = False).value = wbD # paste deltas onto the calc sheet from the source\n",
    "\n",
    "excel.DisplayAlerts = True # unsuppress the warning dialogue\n",
    "        \n",
    "# save and then close the summary file\n",
    "wbS.save(os.path.join(pthEXPORTS,f'Derv {rptDate}.xlsx'))\n",
    "wbS.close()\n",
    "\n",
    "# delete contents of the temporary local folder\n",
    "for filename in tqdm(os.listdir(pthLOCAL)):\n",
    "    file_path = os.path.join(pthLOCAL, filename)\n",
    "    try:\n",
    "        if os.path.isfile(file_path) or os.path.islink(file_path):\n",
    "            os.unlink(file_path)\n",
    "        elif os.path.isdir(file_path):\n",
    "            shutil.rmtree(file_path)\n",
    "    except Exception as e:\n",
    "        print(\"Couldn't delete %s because %s \" % (file_path, e))\n",
    "\n",
    "# open the derivative cover summary file for review\n",
    "excel.Workbooks.Open(pthEXPORTS + f'/Derv {rptDate}.xlsx')\n",
    "\n",
    "print(timediff(start_time, time.time()))"
   ]
  },
  {
   "cell_type": "code",
   "execution_count": 12,
   "id": "61cb2117",
   "metadata": {},
   "outputs": [
    {
     "name": "stdout",
     "output_type": "stream",
     "text": [
      "0.0sec\n",
      "Total time: 20min 43.3sec\n"
     ]
    }
   ],
   "source": [
    "# delete the Eagle files from the Downloads folder\n",
    "start_time = time.time()\n",
    "\n",
    "os.remove(fDE)\n",
    "os.remove(fPARN)\n",
    "os.remove(pthDx + '\\Portfolio Analytics Report - New.csv')\n",
    "os.remove(pthDx + '\\Derivative Exposure.csv')\n",
    "os.remove(fDE   + 'x')\n",
    "os.remove(fPARN + 'x')\n",
    "\n",
    "print(timediff(start_time, time.time())) # time for this cell to complete\n",
    "print('Total time: ' + timediff(start_time_overlord, time.time())) # time for all the cells to complete"
   ]
  }
 ],
 "metadata": {
  "kernelspec": {
   "display_name": "Python 3 (ipykernel)",
   "language": "python",
   "name": "python3"
  },
  "language_info": {
   "codemirror_mode": {
    "name": "ipython",
    "version": 3
   },
   "file_extension": ".py",
   "mimetype": "text/x-python",
   "name": "python",
   "nbconvert_exporter": "python",
   "pygments_lexer": "ipython3",
   "version": "3.9.12"
  }
 },
 "nbformat": 4,
 "nbformat_minor": 5
}
