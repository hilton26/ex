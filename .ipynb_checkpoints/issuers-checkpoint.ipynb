{
 "cells": [
  {
   "cell_type": "markdown",
   "id": "7f5c6c29",
   "metadata": {},
   "source": [
    "### Resources\n",
    " \n",
    " 'else' in a list comprehension<br>\n",
    " https://stackoverflow.com/questions/2951701/is-it-possible-to-use-else-in-a-list-comprehension\n",
    " \n",
    "convert string to variable<br>\n",
    "https://www.codeproject.com/Questions/1222606/Python-convert-string-and-variable-to-list-name\n",
    "\n",
    "Apply function to each element of a list<br>\n",
    "https://stackoverflow.com/questions/25082410/apply-function-to-each-element-of-a-list"
   ]
  },
  {
   "cell_type": "code",
   "execution_count": 92,
   "id": "42be5ea1",
   "metadata": {},
   "outputs": [],
   "source": [
    "# libraries, libraries!\n",
    "import pandas as pd # for dataframes\n",
    "import re # for RegEx\n",
    "from re import search\n",
    "from datetime import datetime # for script run durations\n",
    "import openpyxl as px # for adding sort filters to the resulting excel spreadsheet\n",
    "from openpyxl.cell import Cell #format cells\n",
    "from openpyxl.styles import Alignment, Color, PatternFill, Font, Border #format cells with word wrap and top alignment    "
   ]
  },
  {
   "cell_type": "code",
   "execution_count": 93,
   "id": "9057a14d",
   "metadata": {},
   "outputs": [],
   "source": [
    "# set paths\n",
    "pthPy         = r'C:\\Users\\hilton.netta\\OneDrive - Prescient\\py' # path to Py stuff in working folder\n",
    "pthCompliance = r'P:\\Investment Operations\\GRC\\Compliance' # path to PIM Compliance folder\n",
    "pthW          = r'P:\\Working Folders\\Hilton\\W'"
   ]
  },
  {
   "cell_type": "code",
   "execution_count": 94,
   "id": "28fefca8",
   "metadata": {},
   "outputs": [
    {
     "name": "stderr",
     "output_type": "stream",
     "text": [
      "C:\\Users\\hilton.netta\\Anaconda3\\lib\\site-packages\\openpyxl\\worksheet\\_reader.py:312: UserWarning: Conditional Formatting extension is not supported and will be removed\n",
      "  warn(msg)\n"
     ]
    }
   ],
   "source": [
    "# get regex structures as dataframes\n",
    "structures = pthPy + r'\\structures.xlsx'\n",
    "\n",
    "# import the regex date formats\n",
    "dfrgx = pd.read_excel(structures, sheet_name       = 'dates')\n",
    "\n",
    "# import the list of accrual line items, #https://datatofish.com/pandas-dataframe-to-series/\n",
    "accr        = pd.read_excel(structures, sheet_name = 'accr', usecols = ['accruals'])\n",
    "marg        = pd.read_excel(structures, sheet_name = 'accr', usecols = ['margins'])\n",
    "accr_list   = [x for e in accr.values.tolist() for x in e] #https://bobbyhadz.com/blog/python-remove-square-brackets-from-list\n",
    "margin_list = [x for e in marg.values.tolist() for x in e]\n",
    "\n",
    "# import the regex CLN formats\n",
    "clnrgx = pd.read_excel(structures, sheet_name      = 'cln')\n",
    "\n",
    "# import the regex FRN formats\n",
    "frnrgx = pd.read_excel(structures, sheet_name      = 'frn')\n",
    "\n",
    "# import South African holidays\n",
    "sa_hols = pd.read_excel(structures, sheet_name     = 'hols', usecols = ['sa_hols'])\n",
    "\n",
    "# import issuer regex formats, sans NaNs # https://stackoverflow.com/questions/46218652/python-pandas-unique-value-ignoring-nan\n",
    "issrgx = pd.read_excel(structures, sheet_name      = 'issuers', usecols = ['description', 'id', 'name']) # a pandas dataframe\n",
    "rgxid = issrgx['id'].dropna() # this is now a pandas series\n",
    "rgxdesc = issrgx['description'].dropna() # this is now a pandas series\n",
    "\n",
    "# import CLNs\n",
    "clns = pd.read_excel(pthCompliance + r'\\MCaps\\CLNs.xlsx', sheet_name = 'CLN', usecols = ['Code', 'Counterparty Long Name', 'Issuer Long Name'])\n",
    "\n",
    "# import custodian accounts\n",
    "sttlmnt = pd.read_excel(pthCompliance + r'\\Daily\\2A - Fund Codes, Breach Register.xlsx', sheet_name = 'Sttlmnt', usecols=\"A,K,L\") # only \"Fund\", \"Custodian\", and \"SAFEX\" columns\n",
    "\n",
    "# import CMS circular\n",
    "med = pd.read_excel(pthCompliance + r'\\Medical Schemes\\20220117 MSA Circ6 Categorisations.xlsx', sheet_name = 'JSEEquity31Dec2021')\n",
    "\n",
    "# import the Reg 28 file with all issuer codes assigned a named issuer\n",
    "Reg28_basis = pd.read_excel(pthW + r'\\!Reg28Worx 31Dec2022.xlsm')"
   ]
  },
  {
   "cell_type": "code",
   "execution_count": 95,
   "id": "2b61d9ad",
   "metadata": {},
   "outputs": [
    {
     "name": "stdout",
     "output_type": "stream",
     "text": [
      "Mercedes-Benz South Africa (Pty) Ltd True\n"
     ]
    }
   ],
   "source": [
    "# function to derive ISSUER from INSTRUMENT DESCRIPTION (\"i Issue Name\" column)\n",
    "def issuer_desc(txt):\n",
    "    for pattern in issrgx['description']:\n",
    "        if re.search(pattern, txt.upper()):\n",
    "            return issrgx.loc[issrgx['description'] == pattern].iat[0,2] # note 'break' within the for loop   \n",
    "            break\n",
    "        \n",
    "test_txt_1 = 'The quick brown fox jumped mercedes over the lazy dog.'\n",
    "print(issuer_desc(test_txt_1), isinstance(issuer_desc(test_txt_1), str)) # test if a variable is a string\n",
    "# https://pythonprinciples.com/blog/check-if-var-is-string/"
   ]
  },
  {
   "cell_type": "code",
   "execution_count": 96,
   "id": "6c01a506",
   "metadata": {},
   "outputs": [
    {
     "name": "stdout",
     "output_type": "stream",
     "text": [
      "Mercedes-Benz South Africa (Pty) Ltd True\n"
     ]
    }
   ],
   "source": [
    "# function to derive ISSUER from INSTRUMENT DESCRIPTION (\"i Issue Name\" column)\n",
    "def issuer_desc(txt):\n",
    "    for pattern in rgxdesc:\n",
    "        if re.search(pattern, txt.upper()):\n",
    "            return issrgx.loc[issrgx['description'] == pattern].iat[0,2] # note 'break' within the for loop   \n",
    "            break\n",
    "        \n",
    "test_txt_1 = 'The quick brown fox jumped mercedes over the lazy dog.'\n",
    "print(issuer_desc(test_txt_1), isinstance(issuer_desc(test_txt_1), str)) # test if a variable is a string\n",
    "# https://pythonprinciples.com/blog/check-if-var-is-string/"
   ]
  },
  {
   "cell_type": "code",
   "execution_count": 97,
   "id": "58da54e1",
   "metadata": {},
   "outputs": [
    {
     "name": "stdout",
     "output_type": "stream",
     "text": [
      "Standard Bank Group Ltd\n"
     ]
    }
   ],
   "source": [
    "# function to derive ISSUER from INSTRUMENT ID (\"Primary Asset ID\" column)\n",
    "def issuer_id(txt):\n",
    "    for pattern in rgxid:\n",
    "        if re.search(pattern, txt.upper()): # check if the pattern exists in the txt\n",
    "            return issrgx.loc[issrgx['id'] == pattern].iat[0,2] # note the 'break' within the for loop \n",
    "            break\n",
    "\n",
    "test_txt_2 = 'SBT054 the lazy dog'\n",
    "print(issuer_id(test_txt_2))"
   ]
  },
  {
   "cell_type": "code",
   "execution_count": 98,
   "id": "9c35adff",
   "metadata": {},
   "outputs": [],
   "source": [
    "# utility function to open an excel file, .xls or .xlsx\n",
    "def open_xl_file(file_name_and_path):\n",
    "    import win32com.client as win32 # library to convert xls to xlsx\n",
    "    excel = win32.gencache.EnsureDispatch('Excel.Application')\n",
    "    excel.DisplayAlerts = False # suppress the warning dialogue\n",
    "    excel.Workbooks.Open(file_name_and_path)\n",
    "    excel.DisplayAlerts = True # unsuppress the warning dialogue"
   ]
  },
  {
   "cell_type": "code",
   "execution_count": 99,
   "id": "260de7b9",
   "metadata": {},
   "outputs": [
    {
     "data": {
      "text/plain": [
       "'17Aug2013'"
      ]
     },
     "execution_count": 99,
     "metadata": {},
     "output_type": "execute_result"
    }
   ],
   "source": [
    "# function that extracts date from string\n",
    "def datex(txt):\n",
    "    try:\n",
    "        for pattern in dfrgx['date_regex']:\n",
    "            if re.search(pattern, txt.title()):\n",
    "                break\n",
    "        return datetime.strptime(re.search(pattern, txt.title()).group(),dfrgx.loc[dfrgx['date_regex'] == pattern].iat[0,1]).strftime(\"%d%b%Y\")\n",
    "\n",
    "    # manage exceptions:\n",
    "    except ValueError as ve:\n",
    "        print(f'ValueError {ve}')\n",
    "    except TypeError as te:\n",
    "        print(f'TypeError {te}')\n",
    "    except AttributeError as ae:\n",
    "        print(f'AttributeError {ae}')\n",
    "        \n",
    "#test the datex function\n",
    "txt = \"BNP Paribas Personal Finance SA Ltd FRN BPPF31 Jb3+95 17-Aug-13\"\n",
    "datex(txt)"
   ]
  },
  {
   "cell_type": "code",
   "execution_count": 100,
   "id": "7bb7b8ef",
   "metadata": {},
   "outputs": [
    {
     "name": "stdout",
     "output_type": "stream",
     "text": [
      "None <class 'NoneType'> 1 <class 'int'> 1 <class 'int'>\n"
     ]
    }
   ],
   "source": [
    "# functions to extract CLN, FRN, NCD, ILB\n",
    "def cln(txt):\n",
    "    for pattern in clnrgx['regex']:\n",
    "        if re.search(pattern, txt.upper()): \n",
    "            #return clnrgx.loc[clnrgx['regex'] == pattern].iat[0,2] # note 'break' below the first 'for'   \n",
    "            return 1\n",
    "        break\n",
    "        \n",
    "def frn(txt):\n",
    "    for pattern in frnrgx['regex']:\n",
    "        if re.search(pattern, txt.upper()): \n",
    "            #return frnrgx.loc[frnrgx['regex'] == pattern].iat[0,2] # note 'break' below the first 'for' \n",
    "            return 1\n",
    "        break\n",
    "        \n",
    "# import the regex ILB formats\n",
    "ilbrgx = pd.read_excel(structures, sheet_name = 'ilb')\n",
    "def ilb(txt):\n",
    "    for pattern in ilbrgx['regex']:\n",
    "        if re.search(pattern, txt.upper()): \n",
    "            #return ilbrgx.loc[ilbrgx['regex'] == pattern].iat[0,2] # note the 'break' below the first 'for'  \n",
    "            return 1\n",
    "        break       \n",
    "        \n",
    "txt = 'de Barge inflation asn'\n",
    "print(frn(txt), type(frn(txt)), cln(txt), type(cln(txt)), ilb(txt), type(ilb(txt)))"
   ]
  },
  {
   "cell_type": "code",
   "execution_count": 101,
   "id": "d67f7e28",
   "metadata": {},
   "outputs": [],
   "source": [
    "# function that creates a new column based on the values of othe columns\n",
    "# Check if an element is in a list https://www.geeksforgeeks.org/check-if-element-exists-in-list-in-python/\n",
    "def categorise(row):\n",
    "    t = issuer_desc(row['i Issue Name'])                                   # create a temp so the function only gets called once\n",
    "    g = issuer_id(row['Primary Asset ID'])                                 # create a temp so the function only gets called once\n",
    "    if row['Primary Asset ID'] in accr_list:                               # item is an accrual\n",
    "        return sttlmnt.loc[sttlmnt['Fund'] == row['Entity Name']].iat[0,1]\n",
    "    elif row['Investment Type'] == 'SYTH' and row['CCY'] != 'ZAR':         # item is non-ZAR synthetic cash\n",
    "        return sttlmnt.loc[sttlmnt['Fund'] == row['Entity Name']].iat[0,1]\n",
    "    elif row['Investment Type'] == 'SYTH' and row['CCY'] == 'ZAR':         # item is ZAR synthetic cash\n",
    "        return sttlmnt.loc[sttlmnt['Fund'] == row['Entity Name']].iat[0,2]\n",
    "    elif row['Primary Asset ID'] in margin_list:                           # item is a margin account (initial or variation)\n",
    "        return sttlmnt.loc[sttlmnt['Fund'] == row['Entity Name']].iat[0,2]\n",
    "    elif cln(row['i Issue Name']) == 1:                                    # item is a CLN\n",
    "        return clns.loc[clns['Code'] == row['Primary Asset ID']].iat[0,2]\n",
    "    elif isinstance(t, str):                                               # INSTRUMENT DESCRIPTION is a hit ...\n",
    "        return t\n",
    "    elif isinstance(g, str):                                               # INSTRUMENT ID is a hit ...\n",
    "        return g\n",
    "    return '-xxx-'"
   ]
  },
  {
   "cell_type": "code",
   "execution_count": 102,
   "id": "7eb2c02a",
   "metadata": {},
   "outputs": [],
   "source": [
    "# (1) read in a Reg 28 file from Eagle as a dataframe called 'example' to use as an input\n",
    "example = pd.read_excel(pthW + r'\\Reg 28 Report - test.xlsx')"
   ]
  },
  {
   "cell_type": "code",
   "execution_count": 103,
   "id": "c0912d7b",
   "metadata": {},
   "outputs": [
    {
     "name": "stdout",
     "output_type": "stream",
     "text": [
      "AttributeError 'NoneType' object has no attribute 'group'\n",
      "AttributeError 'NoneType' object has no attribute 'group'\n",
      "AttributeError 'NoneType' object has no attribute 'group'\n",
      "AttributeError 'NoneType' object has no attribute 'group'\n",
      "AttributeError 'NoneType' object has no attribute 'group'\n",
      "AttributeError 'NoneType' object has no attribute 'group'\n",
      "AttributeError 'NoneType' object has no attribute 'group'\n",
      "AttributeError 'NoneType' object has no attribute 'group'\n",
      "AttributeError 'NoneType' object has no attribute 'group'\n",
      "AttributeError 'NoneType' object has no attribute 'group'\n",
      "AttributeError 'NoneType' object has no attribute 'group'\n",
      "AttributeError 'NoneType' object has no attribute 'group'\n",
      "AttributeError 'NoneType' object has no attribute 'group'\n",
      "AttributeError 'NoneType' object has no attribute 'group'\n",
      "AttributeError 'NoneType' object has no attribute 'group'\n",
      "AttributeError 'NoneType' object has no attribute 'group'\n",
      "AttributeError 'NoneType' object has no attribute 'group'\n",
      "AttributeError 'NoneType' object has no attribute 'group'\n",
      "AttributeError 'NoneType' object has no attribute 'group'\n",
      "AttributeError 'NoneType' object has no attribute 'group'\n",
      "AttributeError 'NoneType' object has no attribute 'group'\n",
      "AttributeError 'NoneType' object has no attribute 'group'\n",
      "AttributeError 'NoneType' object has no attribute 'group'\n",
      "AttributeError 'NoneType' object has no attribute 'group'\n",
      "AttributeError 'NoneType' object has no attribute 'group'\n",
      "AttributeError 'NoneType' object has no attribute 'group'\n",
      "AttributeError 'NoneType' object has no attribute 'group'\n",
      "AttributeError 'NoneType' object has no attribute 'group'\n",
      "AttributeError 'NoneType' object has no attribute 'group'\n",
      "AttributeError 'NoneType' object has no attribute 'group'\n",
      "AttributeError 'NoneType' object has no attribute 'group'\n",
      "AttributeError 'NoneType' object has no attribute 'group'\n",
      "AttributeError 'NoneType' object has no attribute 'group'\n",
      "AttributeError 'NoneType' object has no attribute 'group'\n",
      "AttributeError 'NoneType' object has no attribute 'group'\n",
      "AttributeError 'NoneType' object has no attribute 'group'\n",
      "AttributeError 'NoneType' object has no attribute 'group'\n",
      "AttributeError 'NoneType' object has no attribute 'group'\n",
      "AttributeError 'NoneType' object has no attribute 'group'\n",
      "AttributeError 'NoneType' object has no attribute 'group'\n",
      "AttributeError 'NoneType' object has no attribute 'group'\n",
      "AttributeError 'NoneType' object has no attribute 'group'\n",
      "AttributeError 'NoneType' object has no attribute 'group'\n",
      "AttributeError 'NoneType' object has no attribute 'group'\n",
      "AttributeError 'NoneType' object has no attribute 'group'\n",
      "AttributeError 'NoneType' object has no attribute 'group'\n",
      "AttributeError 'NoneType' object has no attribute 'group'\n",
      "AttributeError 'NoneType' object has no attribute 'group'\n",
      "AttributeError 'NoneType' object has no attribute 'group'\n",
      "AttributeError 'NoneType' object has no attribute 'group'\n",
      "AttributeError 'NoneType' object has no attribute 'group'\n",
      "AttributeError 'NoneType' object has no attribute 'group'\n",
      "AttributeError 'NoneType' object has no attribute 'group'\n",
      "AttributeError 'NoneType' object has no attribute 'group'\n",
      "AttributeError 'NoneType' object has no attribute 'group'\n",
      "AttributeError 'NoneType' object has no attribute 'group'\n",
      "AttributeError 'NoneType' object has no attribute 'group'\n",
      "AttributeError 'NoneType' object has no attribute 'group'\n",
      "AttributeError 'NoneType' object has no attribute 'group'\n",
      "AttributeError 'NoneType' object has no attribute 'group'\n",
      "AttributeError 'NoneType' object has no attribute 'group'\n",
      "AttributeError 'NoneType' object has no attribute 'group'\n",
      "AttributeError 'NoneType' object has no attribute 'group'\n",
      "AttributeError 'NoneType' object has no attribute 'group'\n",
      "AttributeError 'NoneType' object has no attribute 'group'\n",
      "AttributeError 'NoneType' object has no attribute 'group'\n",
      "AttributeError 'NoneType' object has no attribute 'group'\n",
      "AttributeError 'NoneType' object has no attribute 'group'\n",
      "AttributeError 'NoneType' object has no attribute 'group'\n",
      "AttributeError 'NoneType' object has no attribute 'group'\n",
      "AttributeError 'NoneType' object has no attribute 'group'\n",
      "AttributeError 'NoneType' object has no attribute 'group'\n",
      "AttributeError 'NoneType' object has no attribute 'group'\n",
      "AttributeError 'NoneType' object has no attribute 'group'\n",
      "AttributeError 'NoneType' object has no attribute 'group'\n",
      "AttributeError 'NoneType' object has no attribute 'group'\n",
      "AttributeError 'NoneType' object has no attribute 'group'\n",
      "AttributeError 'NoneType' object has no attribute 'group'\n",
      "AttributeError 'NoneType' object has no attribute 'group'\n",
      "AttributeError 'NoneType' object has no attribute 'group'\n",
      "AttributeError 'NoneType' object has no attribute 'group'\n",
      "AttributeError 'NoneType' object has no attribute 'group'\n",
      "AttributeError 'NoneType' object has no attribute 'group'\n",
      "AttributeError 'NoneType' object has no attribute 'group'\n",
      "AttributeError 'NoneType' object has no attribute 'group'\n",
      "AttributeError 'NoneType' object has no attribute 'group'\n",
      "AttributeError 'NoneType' object has no attribute 'group'\n",
      "AttributeError 'NoneType' object has no attribute 'group'\n",
      "AttributeError 'NoneType' object has no attribute 'group'\n",
      "AttributeError 'NoneType' object has no attribute 'group'\n",
      "AttributeError 'NoneType' object has no attribute 'group'\n",
      "AttributeError 'NoneType' object has no attribute 'group'\n",
      "AttributeError 'NoneType' object has no attribute 'group'\n",
      "AttributeError 'NoneType' object has no attribute 'group'\n",
      "AttributeError 'NoneType' object has no attribute 'group'\n",
      "AttributeError 'NoneType' object has no attribute 'group'\n",
      "AttributeError 'NoneType' object has no attribute 'group'\n",
      "AttributeError 'NoneType' object has no attribute 'group'\n",
      "AttributeError 'NoneType' object has no attribute 'group'\n",
      "AttributeError 'NoneType' object has no attribute 'group'\n",
      "AttributeError 'NoneType' object has no attribute 'group'\n",
      "AttributeError 'NoneType' object has no attribute 'group'\n",
      "AttributeError 'NoneType' object has no attribute 'group'\n",
      "ValueError unconverted data remains: 0\n",
      "ValueError unconverted data remains: 2\n",
      "ValueError unconverted data remains: 0\n",
      "ValueError unconverted data remains: 2\n",
      "ValueError unconverted data remains: 1\n",
      "ValueError unconverted data remains: 3\n",
      "ValueError unconverted data remains: 4\n",
      "ValueError unconverted data remains: 4\n",
      "ValueError unconverted data remains: 8\n",
      "ValueError unconverted data remains: 0\n",
      "ValueError unconverted data remains: 4\n",
      "ValueError unconverted data remains: 7\n",
      "ValueError unconverted data remains: 2\n",
      "ValueError unconverted data remains: 1\n",
      "ValueError unconverted data remains: 8\n",
      "ValueError unconverted data remains: 2\n",
      "ValueError unconverted data remains: 1\n",
      "ValueError unconverted data remains: 7\n",
      "ValueError unconverted data remains: 0\n",
      "ValueError unconverted data remains: 4\n",
      "ValueError unconverted data remains: 4\n",
      "ValueError unconverted data remains: 5\n",
      "ValueError unconverted data remains: 0\n",
      "ValueError time data '50 2.25' does not match format '%d.%m.%y'\n",
      "AttributeError 'NoneType' object has no attribute 'group'\n",
      "ValueError unconverted data remains: 5\n",
      "AttributeError 'NoneType' object has no attribute 'group'\n",
      "AttributeError 'NoneType' object has no attribute 'group'\n",
      "AttributeError 'NoneType' object has no attribute 'group'\n",
      "AttributeError 'NoneType' object has no attribute 'group'\n",
      "AttributeError 'NoneType' object has no attribute 'group'\n",
      "AttributeError 'NoneType' object has no attribute 'group'\n",
      "AttributeError 'NoneType' object has no attribute 'group'\n",
      "AttributeError 'NoneType' object has no attribute 'group'\n"
     ]
    }
   ],
   "source": [
    "# (2) identify instrument attributes\n",
    "# Map an if statement in Python: https://stackoverflow.com/questions/29247718/map-an-if-statement-in-python\n",
    "example['Issuer'] = example.apply(lambda row: categorise(row), axis=1)\n",
    "example['CLN']    = example['i Issue Name'].map(cln)\n",
    "example['FRN']    = example['i Issue Name'].map(frn)\n",
    "example['ILB']    = example['i Issue Name'].map(ilb)\n",
    "example['Date']   = example['i Issue Name'].map(datex)"
   ]
  },
  {
   "cell_type": "code",
   "execution_count": 104,
   "id": "c6b24274",
   "metadata": {},
   "outputs": [
    {
     "name": "stdout",
     "output_type": "stream",
     "text": [
      "0 0\n"
     ]
    }
   ],
   "source": [
    "# (3) identify absent issuers\n",
    "no_issuer = example[example['Issuer'] == '-xxx-']\n",
    "\n",
    "# (4) identify absent CLN issuers\n",
    "# Pandas: How to Select Rows Based on Column Values https://www.statology.org/pandas-select-rows-based-on-column-values/\n",
    "no_CLN_issuer = example[(example['CLN'] == 1) & (example['Issuer'].isna())]\n",
    "\n",
    "print(len(no_issuer.Issuer), len(no_CLN_issuer.CLN))"
   ]
  },
  {
   "cell_type": "code",
   "execution_count": 105,
   "id": "1c7409b7",
   "metadata": {},
   "outputs": [],
   "source": [
    "# (5) write the results to a new excel file\n",
    "writer = pd.ExcelWriter(pthW + r'\\Reg 28 Report - results.xlsx', engine = 'xlsxwriter')\n",
    "example.to_excel(       writer, index = False, sheet_name = 'results') # create sheet showing attributes assigned\n",
    "no_issuer.to_excel(     writer, index = False, sheet_name = 'no issuers') # add sheet showing issuers not assigned\n",
    "no_CLN_issuer.to_excel( writer, index = False, sheet_name = 'no CLN issuers') # add sheet showing CLN references not assigned\n",
    "writer.save()"
   ]
  },
  {
   "cell_type": "code",
   "execution_count": 106,
   "id": "9daf945d",
   "metadata": {},
   "outputs": [],
   "source": [
    "# (6) prettify the sheets\n",
    "\n",
    "# add filters to all columns https://stackoverflow.com/questions/51566349/openpyxl-how-to-add-filters-to-all-columns, and then\n",
    "# freeze entire header row in openpyxl https://stackoverflow.com/questions/25588918/how-to-freeze-entire-header-row-in-openpyxl\n",
    "# iterate over worksheets https://stackoverflow.com/questions/18495672/how-to-iterate-over-worksheets-in-workbook-openpyxl\n",
    "# wrap text in sheet headers https://stackoverflow.com/questions/42215933/apply-wrap-text-to-all-cells-using-openpyxl\n",
    "# fill colour cells https://stackoverflow.com/questions/30484220/fill-cells-with-colors-using-openpyxl\n",
    "wb = px.load_workbook(pthW + r'\\Reg 28 Report - results.xlsx')\n",
    "for sheet in wb.worksheets:\n",
    "    sheet.auto_filter.ref = ws.dimensions\n",
    "    sheet.freeze_panes = ws['J2']\n",
    "    # sheet['A1'].fill = PatternFill(start_color='D9D9D9', end_color='D9D9D9', fill_type='solid')\n",
    "    for row in sheet.iter_rows(min_row=1, max_row=1):\n",
    "        for cell in row:\n",
    "            cell.alignment = Alignment(wrap_text=True,vertical='top')\n",
    "            cell.fill = PatternFill(start_color='D9D9D9', end_color='D9D9D9', fill_type='solid')\n",
    "            #cell.style     = Style(fill=PatternFill(patternType='solid', fill_type='solid', fgColor=Color('D9D9D9')))\n",
    "            \n",
    "wb.save(pthW + r'\\Reg 28 Report - results.xlsx') # save the file\n",
    "\n",
    "\n",
    "#results: P:\\Working Folders\\Hilton\\W\\Reg 28 Report - results.xlsx"
   ]
  }
 ],
 "metadata": {
  "kernelspec": {
   "display_name": "Python 3 (ipykernel)",
   "language": "python",
   "name": "python3"
  },
  "language_info": {
   "codemirror_mode": {
    "name": "ipython",
    "version": 3
   },
   "file_extension": ".py",
   "mimetype": "text/x-python",
   "name": "python",
   "nbconvert_exporter": "python",
   "pygments_lexer": "ipython3",
   "version": "3.9.12"
  }
 },
 "nbformat": 4,
 "nbformat_minor": 5
}
