{
 "cells": [
  {
   "cell_type": "markdown",
   "id": "360f32f9",
   "metadata": {},
   "source": [
    "### Notes\n",
    "If the error message comes back as \"SessionNotCreatedException: Message: session not created: \n",
    "This version of OperaDriver only supports Opera version xx\",\n",
    "get the latest Opera webdriver from https://www.selenium.dev/downloads/ or\n",
    "https://github.com/operasoftware/operachromiumdriver/releases\n",
    "and then save it here: C:/Users/hilton.netta/SeleniumDrivers/"
   ]
  },
  {
   "cell_type": "code",
   "execution_count": 1,
   "id": "02a9e7c4",
   "metadata": {},
   "outputs": [
    {
     "ename": "ModuleNotFoundError",
     "evalue": "No module named 'selenium.webdriver.opera'",
     "output_type": "error",
     "traceback": [
      "\u001b[1;31m---------------------------------------------------------------------------\u001b[0m",
      "\u001b[1;31mModuleNotFoundError\u001b[0m                       Traceback (most recent call last)",
      "Input \u001b[1;32mIn [1]\u001b[0m, in \u001b[0;36m<cell line: 9>\u001b[1;34m()\u001b[0m\n\u001b[0;32m      7\u001b[0m \u001b[38;5;28;01mfrom\u001b[39;00m \u001b[38;5;21;01mdatetime\u001b[39;00m \u001b[38;5;28;01mimport\u001b[39;00m date\n\u001b[0;32m      8\u001b[0m \u001b[38;5;28;01mfrom\u001b[39;00m \u001b[38;5;21;01mselenium\u001b[39;00m \u001b[38;5;28;01mimport\u001b[39;00m webdriver\n\u001b[1;32m----> 9\u001b[0m \u001b[38;5;28;01mfrom\u001b[39;00m \u001b[38;5;21;01mselenium\u001b[39;00m\u001b[38;5;21;01m.\u001b[39;00m\u001b[38;5;21;01mwebdriver\u001b[39;00m\u001b[38;5;21;01m.\u001b[39;00m\u001b[38;5;21;01mopera\u001b[39;00m\u001b[38;5;21;01m.\u001b[39;00m\u001b[38;5;21;01moptions\u001b[39;00m \u001b[38;5;28;01mimport\u001b[39;00m Options \u001b[38;5;66;03m# to state absolute path of the Opera Browser is installed\u001b[39;00m\n\u001b[0;32m     10\u001b[0m \u001b[38;5;28;01mfrom\u001b[39;00m \u001b[38;5;21;01mselenium\u001b[39;00m\u001b[38;5;21;01m.\u001b[39;00m\u001b[38;5;21;01mwebdriver\u001b[39;00m\u001b[38;5;21;01m.\u001b[39;00m\u001b[38;5;21;01mcommon\u001b[39;00m\u001b[38;5;21;01m.\u001b[39;00m\u001b[38;5;21;01mby\u001b[39;00m \u001b[38;5;28;01mimport\u001b[39;00m By\n\u001b[0;32m     11\u001b[0m \u001b[38;5;28;01mfrom\u001b[39;00m \u001b[38;5;21;01mselenium\u001b[39;00m\u001b[38;5;21;01m.\u001b[39;00m\u001b[38;5;21;01mwebdriver\u001b[39;00m\u001b[38;5;21;01m.\u001b[39;00m\u001b[38;5;21;01mcommon\u001b[39;00m\u001b[38;5;21;01m.\u001b[39;00m\u001b[38;5;21;01mkeys\u001b[39;00m \u001b[38;5;28;01mimport\u001b[39;00m Keys\n",
      "\u001b[1;31mModuleNotFoundError\u001b[0m: No module named 'selenium.webdriver.opera'"
     ]
    }
   ],
   "source": [
    "# load libraries\n",
    "import pandas as pd\n",
    "import numpy as np\n",
    "import os\n",
    "import csv\n",
    "import datetime\n",
    "from datetime import date\n",
    "from selenium import webdriver\n",
    "from selenium.webdriver.opera.options import Options # to state absolute path of the Opera Browser is installed\n",
    "from selenium.webdriver.common.by import By\n",
    "from selenium.webdriver.common.keys import Keys\n",
    "from selenium.webdriver.support.select import Select\n",
    "from selenium.webdriver.support.ui import WebDriverWait\n",
    "from selenium.webdriver.support import expected_conditions as EC\n",
    "#import networkdays as networkdays"
   ]
  },
  {
   "cell_type": "code",
   "execution_count": null,
   "id": "03a44b8e",
   "metadata": {},
   "outputs": [],
   "source": [
    "# set paths to the driver, urls, and report paramters\n",
    "os.environ[\"PATH\"] = r\"C:/Users/hilton.netta/SeleniumDrivers\" # + os.pathsep + os.getenv(\"PATH\")\n",
    "# https://stackoverflow.com/questions/61213005/modify-beginning-of-path-variable-with-os-environ-in-python\n",
    "        \n",
    "url_default        = \"https://pimportalprod2015.eagleaccess.com/Default.aspx\"\n",
    "url_derv           = \"https://pimportalprod2015.eagleaccess.com/Queries/Query.aspx?rpt=DerivativeExposure\"\n",
    "url_holdings       = \"https://pimportalprod2015.eagleaccess.com/Queries/Query.aspx?rpt=PortfolioAnalytics\"\n",
    "\n",
    "pth                = r'P:\\Investment Operations\\GRC\\Compliance\\Daily\\derv.xlsx'"
   ]
  },
  {
   "cell_type": "code",
   "execution_count": null,
   "id": "2bde31a3",
   "metadata": {},
   "outputs": [],
   "source": [
    "# set variables\n",
    "derv_xlsx = pd.read_excel(pth, sheet_name = 'Report', header = None, index_col = 0, usecols = 'A:B', nrows = 4)\n",
    "#fnds_       = \", \".join(pd.read_excel(pth, sheet_name = 'Report', usecols = 'D')['Derivative Checker Funds'].values.tolist())\n",
    "#fnds_       = pd.read_excel(pth, sheet_name = 'Report', usecols = 'D')['Derivative Checker Funds'].values\n",
    "fnds_       = ['PMMF', 'PABS', 'PIMBAL', 'GMRETF']\n",
    "\n",
    "aladdin     = derv_xlsx.iat[0,0]\n",
    "sesame      = derv_xlsx.iat[1,0]\n",
    "#when       = derv_xlsx.iat[2,0]\n",
    "when        = datetime.datetime(2022, 4, 17, 0, 0)\n",
    "day_        = f'{when:%#d}' # f'{when:%d}' report date with leading zeroes\n",
    "month_year_ = f'{when:%B}, {when:%Y}'\n",
    "month_      = f'{when:%b}'\n",
    "year_       = f'{when:%Y}'\n",
    "\n",
    "print(aladdin, when, day_, month_, year_, month_year_, derv_xlsx.shape, fnds_)"
   ]
  },
  {
   "cell_type": "code",
   "execution_count": null,
   "id": "a14230a0",
   "metadata": {},
   "outputs": [],
   "source": [
    "fnds_"
   ]
  },
  {
   "cell_type": "code",
   "execution_count": null,
   "id": "ebd0ebd6",
   "metadata": {},
   "outputs": [],
   "source": [
    "# open a browser on the web page\n",
    "driver = webdriver.Chrome()\n",
    "driver.get(url_derv) # Derivative Exposure page\n",
    "\n",
    "# set a maximum waiting period for elements to become available\n",
    "wait = WebDriverWait(driver, 10) # https://selenium-python.readthedocs.io/waits.html\n",
    "\n",
    "# login with credentials\n",
    "driver.find_element(By.CSS_SELECTOR, '#LoginCtrl_MainLoginControl_UserName').send_keys(aladdin)\n",
    "driver.find_element(By.CSS_SELECTOR, '#LoginCtrl_MainLoginControl_Password').send_keys(sesame)\n",
    "driver.find_element(By.CSS_SELECTOR, '#LoginCtrl_MainLoginControl_LoginButton').click()\n",
    "\n",
    "# having logged in, switch to the query page\n",
    "driver.find_element(By.CSS_SELECTOR, '#ModifyLinkLabel').click()\n",
    "\n",
    "edit_criteria_window = driver.window_handles[0] # save curent window handle\n",
    "# How to switch to new window in Selenium for Python?\n",
    "# https://stackoverflow.com/questions/10629815/how-to-switch-to-new-window-in-selenium-for-python"
   ]
  },
  {
   "cell_type": "code",
   "execution_count": null,
   "id": "9e445679",
   "metadata": {},
   "outputs": [],
   "source": [
    "# get the web elements of fund list, and of the submit button\n",
    "fund_selector  = driver.find_element(By.CSS_SELECTOR, 'input[id=\"ctl00_c_qc_QueryInputs_QueryInputsPopup_FUND0_SelectedIds\"]')\n",
    "\n",
    "# assign values to the fund list elements\n",
    "driver.execute_script(f'arguments[0].value = \"{fnds_}\";', fund_selector)"
   ]
  },
  {
   "cell_type": "code",
   "execution_count": null,
   "id": "17ba57c6",
   "metadata": {},
   "outputs": [],
   "source": [
    "# open the calendar\n",
    "cal_popup       = driver.find_element(By.CSS_SELECTOR, 'td[id=\"ctl00_c_qc_QueryInputs_QueryInputsPopup_DATE1_DateCtrl_From_B-1\"]')\n",
    "cal_popup.click()\n",
    "\n",
    "# get the comma separator between month and date. Avoids the default 'month year' without a separating comma\n",
    "wait.until(EC.element_to_be_clickable((By.CSS_SELECTOR, 'td[id=\"ctl00_c_qc_QueryInputs_QueryInputsPopup_DATE1_DateCtrl_From_DDD_C_NMC\"]'))).click() # (right) shift calendar to next month\n",
    "wait.until(EC.element_to_be_clickable((By.CSS_SELECTOR, 'td[id=\"ctl00_c_qc_QueryInputs_QueryInputsPopup_DATE1_DateCtrl_From_DDD_C_PMC\"]'))).click() #  (left) shift calendar to previous month\n",
    "\n",
    "# set up the calendar left-clicker\n",
    "lmonth_selector = wait.until(EC.element_to_be_clickable((By.CSS_SELECTOR, 'td[id=\"ctl00_c_qc_QueryInputs_QueryInputsPopup_DATE1_DateCtrl_From_DDD_C_PMC\"]')))"
   ]
  },
  {
   "cell_type": "code",
   "execution_count": null,
   "id": "6541cda7",
   "metadata": {},
   "outputs": [],
   "source": [
    "# open the calendar\n",
    "cal_popup       = driver.find_element(By.CSS_SELECTOR, 'td[id=\"ctl00_c_qc_QueryInputs_QueryInputsPopup_DATE1_DateCtrl_From_B-1\"]')\n",
    "cal_popup.click()"
   ]
  },
  {
   "cell_type": "code",
   "execution_count": null,
   "id": "23ebb073",
   "metadata": {},
   "outputs": [],
   "source": [
    "# click the month, year selector\n",
    "month_year_selector = driver.find_element(By.CSS_SELECTOR, 'td[id=\"ctl00_c_qc_QueryInputs_QueryInputsPopup_DATE1_DateCtrl_From_DDD_C_TC\"]')\n",
    "month_year_selector.click()"
   ]
  },
  {
   "cell_type": "code",
   "execution_count": null,
   "id": "59c5fc6d",
   "metadata": {},
   "outputs": [],
   "source": [
    "calendar_shift"
   ]
  },
  {
   "cell_type": "code",
   "execution_count": null,
   "id": "7c8674cb",
   "metadata": {},
   "outputs": [],
   "source": []
  },
  {
   "cell_type": "code",
   "execution_count": null,
   "id": "45f24ba7",
   "metadata": {},
   "outputs": [],
   "source": []
  },
  {
   "cell_type": "code",
   "execution_count": null,
   "id": "6bd0f5e9",
   "metadata": {},
   "outputs": [],
   "source": []
  },
  {
   "cell_type": "code",
   "execution_count": null,
   "id": "dc8a1038",
   "metadata": {},
   "outputs": [],
   "source": [
    "pre_calendar = driver.window_handles[0]\n",
    "pre_calendar"
   ]
  },
  {
   "cell_type": "code",
   "execution_count": null,
   "id": "e92cff92",
   "metadata": {},
   "outputs": [],
   "source": [
    "curr_calendar = driver.window_handles[0]\n",
    "curr_calendar"
   ]
  },
  {
   "cell_type": "code",
   "execution_count": null,
   "id": "c82c956e",
   "metadata": {},
   "outputs": [],
   "source": [
    "driver.find_element(By.XPATH,'//td[@class=\"dxeCalendarFastNavYear dxeCalendarFastNavYearSelected\"]').text"
   ]
  },
  {
   "cell_type": "code",
   "execution_count": null,
   "id": "ef3c6bc4",
   "metadata": {},
   "outputs": [],
   "source": [
    "driver.find_element(By.XPATH,'//td[@class=\"dxeCalendarFastNavYearSelected\"]').text"
   ]
  },
  {
   "cell_type": "code",
   "execution_count": null,
   "id": "538d0d33",
   "metadata": {},
   "outputs": [],
   "source": []
  },
  {
   "cell_type": "code",
   "execution_count": null,
   "id": "b849fb36",
   "metadata": {},
   "outputs": [],
   "source": []
  },
  {
   "cell_type": "code",
   "execution_count": null,
   "id": "dd943e73",
   "metadata": {},
   "outputs": [],
   "source": [
    "list(driver.find_elements(By.XPATH,'//td[@class=\"dxeCalendarFastNavYear\"] | td[@class=\"dxeCalendarFastNavYear dxeCalendarFastNavYearSelected\"]'))"
   ]
  },
  {
   "cell_type": "code",
   "execution_count": null,
   "id": "00d6179a",
   "metadata": {},
   "outputs": [],
   "source": [
    "list(e.text for e in driver.find_elements(By.XPATH,'//td[@class=\"dxeCalendarFastNavYear\"] | td[@class=\"dxeCalendarFastNavYear dxeCalendarFastNavYearSelected\"] | td[@class=\"dxeCalendarFastNavYear dxeCalendarFastNavYearSelected dxeCalendarFastNavYearHover\"]'))"
   ]
  },
  {
   "cell_type": "code",
   "execution_count": null,
   "id": "abe585ca",
   "metadata": {},
   "outputs": [],
   "source": [
    "x = driver.find_elements(By.XPATH,'//td[@class=\"dxeCalendarFastNavYear\"] | td[@class=\"dxeCalendarFastNavYear dxeCalendarFastNavYearSelected\"]')\n",
    "x"
   ]
  },
  {
   "cell_type": "code",
   "execution_count": null,
   "id": "bb0aec87",
   "metadata": {},
   "outputs": [],
   "source": [
    "# find the year shift-left clicker button\n",
    "lyear_selector = driver.find_element(By.CSS_SELECTOR, 'img[class=\"dxEditors_edtCalendarFNPrevYear\"]') # year shift-left selector\n",
    "\n",
    "# find the correct year\n",
    "while year_ not in list(e.text for e in driver.find_elements(By.XPATH,'//td[@class=\"dxeCalendarFastNavYear\"] | td[@class=\"dxeCalendarFastNavYear dxeCalendarFastNavYearSelected\"]')):\n",
    "    lyear_selector.click()\n",
    "    \n",
    "# click the correct year"
   ]
  },
  {
   "cell_type": "code",
   "execution_count": null,
   "id": "59be483a",
   "metadata": {},
   "outputs": [],
   "source": [
    "month_"
   ]
  },
  {
   "cell_type": "code",
   "execution_count": null,
   "id": "c5537599",
   "metadata": {},
   "outputs": [],
   "source": [
    "mo_ =  driver.find_elements(By.XPATH,f'//td[@class=\"dxeCalendarFastNavMonth\"] | //td[@class=\"dxeCalendarFastNavMonth dxeCalendarFastNavMonthSelected\"] | //td[@class=\"dxeCalendarFastNavMonth dxeCalendarFastNavMonthSelected dxeCalendarFastNavMonthHover\"]')\n",
    "for e in mo_:\n",
    "    print(e.text, type(e.text))"
   ]
  },
  {
   "cell_type": "code",
   "execution_count": null,
   "id": "a443a085",
   "metadata": {},
   "outputs": [],
   "source": [
    "month_selector = driver.find_elements(By.XPATH,f'//td[@class=\"dxeCalendarFastNavMonth\"][text()={month_}] | //td[@class=\"dxeCalendarFastNavMonth dxeCalendarFastNavMonthSelected\"][text()={month_}]')\n",
    "for e in month_selector:\n",
    "    print(e)"
   ]
  },
  {
   "cell_type": "code",
   "execution_count": null,
   "id": "5f127688",
   "metadata": {},
   "outputs": [],
   "source": [
    "month_selector = driver.find_elements(By.XPATH,f'//td[@class=\"dxeCalendarFastNavMonth\"][text()=\"{month_}\"] | //td[@class=\"dxeCalendarFastNavMonth dxeCalendarFastNavMonthSelected\"][text()=\"{month_}\"] | //td[@class=\"dxeCalendarFastNavMonth dxeCalendarFastNavMonthSelected dxeCalendarFastNavMonthHover\"][text()=\"{month_}\"]')"
   ]
  },
  {
   "cell_type": "code",
   "execution_count": null,
   "id": "34c88db1",
   "metadata": {},
   "outputs": [],
   "source": []
  },
  {
   "cell_type": "code",
   "execution_count": null,
   "id": "e1c1f5a3",
   "metadata": {},
   "outputs": [],
   "source": [
    "# select the reporting month on the calendar\n",
    "month_selector = driver.find_element(By.XPATH,f'//td[@class=\"dxeCalendarFastNavMonth\"][text()=\"{month_}\"] | //td[@class=\"dxeCalendarFastNavMonth dxeCalendarFastNavMonthSelected\"][text()=\"{month_}\"] | //td[@class=\"dxeCalendarFastNavMonth dxeCalendarFastNavMonthSelected dxeCalendarFastNavMonthHover\"][text()=\"{month_}\"]')\n",
    "month_selector.click()"
   ]
  },
  {
   "cell_type": "code",
   "execution_count": null,
   "id": "ce26ef6c",
   "metadata": {},
   "outputs": [],
   "source": []
  },
  {
   "cell_type": "code",
   "execution_count": null,
   "id": "ebf3304b",
   "metadata": {},
   "outputs": [],
   "source": [
    "# left click the calendar until the reporting'month year' combination presents\n",
    "while driver.find_element(By.XPATH,'//td[@id=\"ctl00_c_qc_QueryInputs_QueryInputsPopup_DATE1_DateCtrl_From_DDD_C_TC\"]').text != month_year_:\n",
    "    lmonth_selector.click()\n",
    "# use Python Selenium to get span text; https://stackoverflow.com/questions/14590341/use-python-selenium-to-get-span-text\n",
    "    \n",
    "# select the reporting day on the calendar\n",
    "day_selector = driver.find_element(By.XPATH,f'//td[@class=\"dxeCalendarDay\"][text()={day_}] | //td[@class=\"dxeCalendarDay dxeCalendarWeekend\"][text()={day_}]')\n",
    "day_selector.click()"
   ]
  },
  {
   "cell_type": "code",
   "execution_count": null,
   "id": "d90ba293",
   "metadata": {},
   "outputs": [],
   "source": [
    "# click the 'Submit' button\n",
    "submit_button  = driver.find_element(By.CSS_SELECTOR, 'input[id=\"ctl00_c_qc_QueryInputs_QueryInputsPopup_RunBtn\"]')\n",
    "submit_button.click()"
   ]
  },
  {
   "cell_type": "code",
   "execution_count": null,
   "id": "92a2d777",
   "metadata": {},
   "outputs": [],
   "source": []
  },
  {
   "cell_type": "code",
   "execution_count": null,
   "id": "a8ce8f71",
   "metadata": {},
   "outputs": [],
   "source": []
  },
  {
   "cell_type": "code",
   "execution_count": null,
   "id": "bc1fb415",
   "metadata": {},
   "outputs": [],
   "source": []
  },
  {
   "cell_type": "code",
   "execution_count": null,
   "id": "b5b74677",
   "metadata": {},
   "outputs": [],
   "source": [
    "fnds_"
   ]
  },
  {
   "cell_type": "code",
   "execution_count": null,
   "id": "41de5575",
   "metadata": {},
   "outputs": [],
   "source": [
    "# enter fund names\n",
    "name_      = driver.find_element(By.CSS_SELECTOR, 'input[id=\"ctl00_c_qc_QueryInputs_QueryInputsPopup_FUND0_FilterValue\"]')\n",
    "#name_tick_ = driver.find_element(By.CSS_SELECTOR, 'span[id=\"ctl00_c_qc_QueryInputs_QueryInputsPopup_FUND0_SimpleFilterGrid_DXSelBtn0_D\"]')\n",
    "#name_tick_ = wait.until(EC.element_to_be_clickable((By.CSS_SELECTOR, 'span[id=\"ctl00_c_qc_QueryInputs_QueryInputsPopup_FUND0_SimpleFilterGrid_DXSelBtn0_D\"]'))).click()\n",
    "\n",
    "#name_.send_keys('LAUBAl')\n",
    "#name_tick_.click()\n",
    "\n",
    "for name in fnds_:\n",
    "    name_.send_keys(name)\n",
    "    #driver.execute_script(name, name_)\n",
    "    wait.until(EC.element_to_be_clickable((By.CSS_SELECTOR, 'span[id=\"ctl00_c_qc_QueryInputs_QueryInputsPopup_FUND0_SimpleFilterGrid_DXSelBtn0_D\"]'))).click()\n",
    "    name_.clear()"
   ]
  },
  {
   "cell_type": "code",
   "execution_count": null,
   "id": "2ff410c4",
   "metadata": {},
   "outputs": [],
   "source": [
    "for handle in driver.window_handles:\n",
    "    driver.switch_to.window(handle)\n",
    "    print(driver.title)"
   ]
  },
  {
   "cell_type": "code",
   "execution_count": null,
   "id": "b09922c4",
   "metadata": {},
   "outputs": [],
   "source": [
    "x = driver.getWindowHandle[0]\n",
    "x"
   ]
  },
  {
   "cell_type": "code",
   "execution_count": null,
   "id": "e5ae5b4c",
   "metadata": {},
   "outputs": [],
   "source": [
    "window_before = driver.window_handles[0]\n",
    "window_before"
   ]
  },
  {
   "cell_type": "code",
   "execution_count": null,
   "id": "2e81cc47",
   "metadata": {},
   "outputs": [],
   "source": []
  },
  {
   "cell_type": "code",
   "execution_count": null,
   "id": "d3044314",
   "metadata": {},
   "outputs": [],
   "source": [
    "# get the web elements of fund list, and of the submit button\n",
    "fund_selector  = driver.find_element(By.CSS_SELECTOR, 'input[id=\"ctl00_c_qc_QueryInputs_QueryInputsPopup_FUND0_SelectedIds\"]')\n",
    "\n",
    "# assign values to the fund list elements\n",
    "driver.execute_script(f'arguments[0].value = \"IJGIPF, QIFFGIF\";', fund_selector)"
   ]
  },
  {
   "cell_type": "code",
   "execution_count": null,
   "id": "3724310f",
   "metadata": {},
   "outputs": [],
   "source": [
    "fund_selector.get_attribute(\"value\")"
   ]
  },
  {
   "cell_type": "code",
   "execution_count": null,
   "id": "b57fc43c",
   "metadata": {},
   "outputs": [],
   "source": [
    "driver.find_element(By.CSS_SELECTOR, 'tr[id=\"ctl00_c_qc_QueryInputs_QueryInputsPopup_FUND0_SelectedItemsGrid_DXSyncInput\"][dxo.keys]').text"
   ]
  },
  {
   "cell_type": "code",
   "execution_count": null,
   "id": "ee45ec89",
   "metadata": {},
   "outputs": [],
   "source": [
    "driver.find_element(By.XPATH, \"//*[@id='dxss_1044391392']//*[dxo.keys=['IJGIPF','PMMF','QIFFGIF']]\")\n",
    "\n",
    "#//*[@id=\"dxss_1044391392\"]/text()"
   ]
  },
  {
   "cell_type": "code",
   "execution_count": null,
   "id": "b0d663f5",
   "metadata": {},
   "outputs": [],
   "source": []
  },
  {
   "cell_type": "code",
   "execution_count": null,
   "id": "81f27dee",
   "metadata": {},
   "outputs": [],
   "source": [
    "# check that funds list is accurate\n",
    "len(fnds_), len(fund_selector.get_attribute(\"value\"))"
   ]
  },
  {
   "cell_type": "code",
   "execution_count": null,
   "id": "c6e0e0b1",
   "metadata": {},
   "outputs": [],
   "source": []
  },
  {
   "cell_type": "code",
   "execution_count": null,
   "id": "5f5207e6",
   "metadata": {},
   "outputs": [],
   "source": []
  },
  {
   "cell_type": "code",
   "execution_count": null,
   "id": "fb6d27a9",
   "metadata": {},
   "outputs": [],
   "source": []
  },
  {
   "cell_type": "code",
   "execution_count": null,
   "id": "81feaa0c",
   "metadata": {},
   "outputs": [],
   "source": []
  },
  {
   "cell_type": "code",
   "execution_count": null,
   "id": "a1427eda",
   "metadata": {},
   "outputs": [],
   "source": [
    "#fx = driver.find_element(By.CSS_SELECTOR, 'tr[id=\"ctl00_c_qc_QueryInputs_QueryInputsPopup_FUND0_SelectedItemsGrid_DXDataRow3\"]')\n",
    "fx = driver.find_element(By.CSS_SELECTOR, 'tr[id=\"ctl00_c_qc_QueryInputs_QueryInputsPopup_FUND0_SelectedItemsGrid_DXSyncInput\"]')\n",
    "\n",
    "\n",
    "# assign values to the fund list elements\n",
    "driver.execute_script(f'arguments[0].value = \"IJGIPF, QIFFGIF\";', fund_selector)\n",
    "#ctl00_c_qc_QueryInputs_QueryInputsPopup_FUND0_SelectedItemsGrid_DXDataRow0"
   ]
  }
 ],
 "metadata": {
  "kernelspec": {
   "display_name": "Python 3 (ipykernel)",
   "language": "python",
   "name": "python3"
  },
  "language_info": {
   "codemirror_mode": {
    "name": "ipython",
    "version": 3
   },
   "file_extension": ".py",
   "mimetype": "text/x-python",
   "name": "python",
   "nbconvert_exporter": "python",
   "pygments_lexer": "ipython3",
   "version": "3.9.12"
  }
 },
 "nbformat": 4,
 "nbformat_minor": 5
}
