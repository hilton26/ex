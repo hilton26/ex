{
 "cells": [
  {
   "cell_type": "markdown",
   "id": "186b58d8",
   "metadata": {},
   "source": [
    "Using Python with Selenium to Automate Mouse Clicks and Filling Forms\n",
    "https://towardsdatascience.com/using-python-and-selenium-to-automate-filling-forms-and-mouse-clicks-f87c74ed5c0f\n",
    "\n",
    "Handling dropdowns\n",
    "https://www.youtube.com/watch?v=p9NpddaIZWs"
   ]
  },
  {
   "cell_type": "code",
   "execution_count": 9,
   "id": "d0c55ef1",
   "metadata": {},
   "outputs": [],
   "source": [
    "# !pip install\n",
    "# c:\\users\\hilton.netta\\anaconda3\\lib\\site-packages (from pandas) (2.8.2)"
   ]
  },
  {
   "cell_type": "code",
   "execution_count": 10,
   "id": "0fcacaec",
   "metadata": {},
   "outputs": [
    {
     "ename": "AttributeError",
     "evalue": "module 'selenium.webdriver' has no attribute 'Opera'",
     "output_type": "error",
     "traceback": [
      "\u001b[1;31m---------------------------------------------------------------------------\u001b[0m",
      "\u001b[1;31mAttributeError\u001b[0m                            Traceback (most recent call last)",
      "Input \u001b[1;32mIn [10]\u001b[0m, in \u001b[0;36m<cell line: 14>\u001b[1;34m()\u001b[0m\n\u001b[0;32m     10\u001b[0m os\u001b[38;5;241m.\u001b[39menviron[\u001b[38;5;124m\"\u001b[39m\u001b[38;5;124mPATH\u001b[39m\u001b[38;5;124m\"\u001b[39m] \u001b[38;5;241m=\u001b[39m \u001b[38;5;124mr\u001b[39m\u001b[38;5;124m\"\u001b[39m\u001b[38;5;124mC:/Users/hilton.netta/SeleniumDrivers\u001b[39m\u001b[38;5;124m\"\u001b[39m \u001b[38;5;241m+\u001b[39m os\u001b[38;5;241m.\u001b[39mpathsep \u001b[38;5;241m+\u001b[39m os\u001b[38;5;241m.\u001b[39mgetenv(\u001b[38;5;124m\"\u001b[39m\u001b[38;5;124mPATH\u001b[39m\u001b[38;5;124m\"\u001b[39m)\n\u001b[0;32m     11\u001b[0m \u001b[38;5;66;03m# https://stackoverflow.com/questions/61213005/modify-beginning-of-path-variable-with-os-environ-in-python\u001b[39;00m\n\u001b[0;32m     12\u001b[0m \n\u001b[0;32m     13\u001b[0m \u001b[38;5;66;03m# web driver and web app urls\u001b[39;00m\n\u001b[1;32m---> 14\u001b[0m driver \u001b[38;5;241m=\u001b[39m \u001b[43mwebdriver\u001b[49m\u001b[38;5;241;43m.\u001b[39;49m\u001b[43mOpera\u001b[49m()\n\u001b[0;32m     15\u001b[0m driver\u001b[38;5;241m.\u001b[39mget(web_app_location)\n\u001b[0;32m     17\u001b[0m \u001b[38;5;66;03m# login credentials\u001b[39;00m\n",
      "\u001b[1;31mAttributeError\u001b[0m: module 'selenium.webdriver' has no attribute 'Opera'"
     ]
    }
   ],
   "source": [
    "import os\n",
    "from selenium import webdriver\n",
    "from selenium.webdriver.common.by import By\n",
    "# to install selenium for anaconda: https://anaconda.org/conda-forge/selenium\n",
    "\n",
    "# get the Chrome version number here: chrome://settings/help\n",
    "# get web drivers: https://www.selenium.dev/downloads/\n",
    "web_app_location = \"https://pimportalprod2015.eagleaccess.com/Default.aspx\"\n",
    "\n",
    "os.environ[\"PATH\"] = r\"C:/Users/hilton.netta/SeleniumDrivers\" + os.pathsep + os.getenv(\"PATH\")\n",
    "# https://stackoverflow.com/questions/61213005/modify-beginning-of-path-variable-with-os-environ-in-python\n",
    "\n",
    "# web driver and web app urls\n",
    "driver = webdriver.Opera()\n",
    "driver.get(web_app_location)\n",
    "\n",
    "# login credentials\n",
    "username = 'hnetta'\n",
    "pw = 'Eagle12'\n",
    "\n",
    "# do login\n",
    "driver.find_element(By.CSS_SELECTOR, '#LoginCtrl_MainLoginControl_UserName').send_keys(username)\n",
    "driver.find_element(By.CSS_SELECTOR, '#LoginCtrl_MainLoginControl_Password').send_keys(pw)\n",
    "driver.find_element(By.CSS_SELECTOR, '#LoginCtrl_MainLoginControl_LoginButton').click()"
   ]
  },
  {
   "cell_type": "code",
   "execution_count": null,
   "id": "66e78129",
   "metadata": {},
   "outputs": [],
   "source": [
    "driver.quit()"
   ]
  },
  {
   "cell_type": "code",
   "execution_count": null,
   "id": "99a0c635",
   "metadata": {},
   "outputs": [],
   "source": [
    "# Open 'Derivative Exposure' menu\n",
    "driver.find_element(By.XPATH, '//span[@id=\"sm_m1_ITTCNT3i0i0_l_0\"]').click()"
   ]
  },
  {
   "cell_type": "code",
   "execution_count": null,
   "id": "ddc12333",
   "metadata": {},
   "outputs": [],
   "source": [
    "\n",
    "# Open 'Edit Criteria'\n",
    "edit_criteria = '//*[@id=\"ModifyLinkLabel\"]'\n",
    "driver.find_element_by_xpath(edit_criteria).click()"
   ]
  },
  {
   "cell_type": "code",
   "execution_count": null,
   "id": "2adfa4d3",
   "metadata": {},
   "outputs": [],
   "source": [
    "driver.quit()"
   ]
  },
  {
   "cell_type": "code",
   "execution_count": null,
   "id": "53129831",
   "metadata": {},
   "outputs": [],
   "source": []
  }
 ],
 "metadata": {
  "kernelspec": {
   "display_name": "Python 3 (ipykernel)",
   "language": "python",
   "name": "python3"
  },
  "language_info": {
   "codemirror_mode": {
    "name": "ipython",
    "version": 3
   },
   "file_extension": ".py",
   "mimetype": "text/x-python",
   "name": "python",
   "nbconvert_exporter": "python",
   "pygments_lexer": "ipython3",
   "version": "3.9.12"
  }
 },
 "nbformat": 4,
 "nbformat_minor": 5
}
