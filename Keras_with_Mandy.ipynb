{
 "cells": [
  {
   "cell_type": "markdown",
   "id": "125a563c",
   "metadata": {
    "id": "392d18c0"
   },
   "source": [
    "## Keras with TensorFlow Course - Python Deep Learning and Neural Networks for Beginners Tutorial\n",
    "https://www.youtube.com/watch?v=qFJeN9V1ZsI"
   ]
  },
  {
   "cell_type": "markdown",
   "id": "92920ee7",
   "metadata": {
    "id": "6967a8fe"
   },
   "source": [
    "### Data Preparation and Processing"
   ]
  },
  {
   "cell_type": "code",
   "execution_count": 1,
   "id": "f7504eea",
   "metadata": {
    "executionInfo": {
     "elapsed": 373,
     "status": "ok",
     "timestamp": 1644697775150,
     "user": {
      "displayName": "Hilton Netta",
      "photoUrl": "https://lh3.googleusercontent.com/a-/AOh14GiFU0LY3XzNII-D3ck-Qu4t62HaiWSV7jRSk9zY5Gk=s64",
      "userId": "12675899029959733562"
     },
     "user_tz": -120
    },
    "id": "7a3e78d7"
   },
   "outputs": [],
   "source": [
    "import numpy as np\n",
    "from random import randint\n",
    "from sklearn.utils import shuffle\n",
    "from sklearn.preprocessing import MinMaxScaler"
   ]
  },
  {
   "cell_type": "code",
   "execution_count": 2,
   "id": "317291e9",
   "metadata": {
    "executionInfo": {
     "elapsed": 10,
     "status": "ok",
     "timestamp": 1644697811558,
     "user": {
      "displayName": "Hilton Netta",
      "photoUrl": "https://lh3.googleusercontent.com/a-/AOh14GiFU0LY3XzNII-D3ck-Qu4t62HaiWSV7jRSk9zY5Gk=s64",
      "userId": "12675899029959733562"
     },
     "user_tz": -120
    },
    "id": "fe26a669"
   },
   "outputs": [],
   "source": [
    "train_labels = []\n",
    "train_samples = []"
   ]
  },
  {
   "cell_type": "markdown",
   "id": "7d06ea31",
   "metadata": {
    "id": "39982ede"
   },
   "source": [
    "Example data:\n",
    "- An experimental drug was tested on individuals aged 13 to 100 in a clinical trial\n",
    "- The trial had 2100 participants. Half were under 65 years old, and half were 65 years or older\n",
    "- Around 95% of patients 65 years or older experienced side effects\n",
    "- Around 95% of patients under 65 experienced no side effects\n"
   ]
  },
  {
   "cell_type": "code",
   "execution_count": 3,
   "id": "515395c6",
   "metadata": {
    "executionInfo": {
     "elapsed": 6,
     "status": "ok",
     "timestamp": 1644697850976,
     "user": {
      "displayName": "Hilton Netta",
      "photoUrl": "https://lh3.googleusercontent.com/a-/AOh14GiFU0LY3XzNII-D3ck-Qu4t62HaiWSV7jRSk9zY5Gk=s64",
      "userId": "12675899029959733562"
     },
     "user_tz": -120
    },
    "id": "8e200f91"
   },
   "outputs": [],
   "source": [
    "for i in range(50):\n",
    "    # the ~5% of younger individuals who did experience side effects\n",
    "    train_samples.append(randint(13,64))\n",
    "    train_labels.append(1) # \"1\" indicates that a side effect was experienced\n",
    "    \n",
    "    # the ~5% of older individuals who did not experience side effects\n",
    "    train_samples.append(randint(65,100))\n",
    "    train_labels.append(0) # \"0\" indicates that a side effect was not experienced\n",
    "    \n",
    "\n",
    "for i in range(1000):\n",
    "    # the ~95% of younger individuals who did not experience side effects\n",
    "    train_samples.append(randint(13,64))\n",
    "    train_labels.append(0) \n",
    "    \n",
    "    # the ~95% of older individuals who did experience side effects\n",
    "    train_samples.append(randint(65,100))\n",
    "    train_labels.append(1) \n",
    "    "
   ]
  },
  {
   "cell_type": "code",
   "execution_count": 4,
   "id": "7a467d82",
   "metadata": {
    "executionInfo": {
     "elapsed": 410,
     "status": "ok",
     "timestamp": 1644697873933,
     "user": {
      "displayName": "Hilton Netta",
      "photoUrl": "https://lh3.googleusercontent.com/a-/AOh14GiFU0LY3XzNII-D3ck-Qu4t62HaiWSV7jRSk9zY5Gk=s64",
      "userId": "12675899029959733562"
     },
     "user_tz": -120
    },
    "id": "767cbac3"
   },
   "outputs": [],
   "source": [
    "# turn the lists into numpy arrays and then\n",
    "# shuffle the data to remove any imposed strcucture from the (random) generation process\n",
    "train_samples = np.array(train_samples)\n",
    "train_labels = np.array(train_labels)\n",
    "type(train_samples), type(train_labels)\n",
    "train_samples, train_labels = shuffle(train_samples, train_labels)"
   ]
  },
  {
   "cell_type": "code",
   "execution_count": 5,
   "id": "d88371b7",
   "metadata": {
    "executionInfo": {
     "elapsed": 445,
     "status": "ok",
     "timestamp": 1644697963411,
     "user": {
      "displayName": "Hilton Netta",
      "photoUrl": "https://lh3.googleusercontent.com/a-/AOh14GiFU0LY3XzNII-D3ck-Qu4t62HaiWSV7jRSk9zY5Gk=s64",
      "userId": "12675899029959733562"
     },
     "user_tz": -120
    },
    "id": "55abdf45"
   },
   "outputs": [],
   "source": [
    "# scale the features of ages from 13 to 100, to 0 to 1 in order to pass it to the \"fit\" function\n",
    "scaler = MinMaxScaler(feature_range = (0, 1))\n",
    "\n",
    "#reshape the 1D form of data since the \"fit\" function does not take 1D data\n",
    "scaled_train_samples = scaler.fit_transform(train_samples.reshape(-1, 1))"
   ]
  },
  {
   "cell_type": "code",
   "execution_count": 6,
   "id": "4640ac4c",
   "metadata": {
    "executionInfo": {
     "elapsed": 483,
     "status": "ok",
     "timestamp": 1644697969607,
     "user": {
      "displayName": "Hilton Netta",
      "photoUrl": "https://lh3.googleusercontent.com/a-/AOh14GiFU0LY3XzNII-D3ck-Qu4t62HaiWSV7jRSk9zY5Gk=s64",
      "userId": "12675899029959733562"
     },
     "user_tz": -120
    },
    "id": "1e9e1360"
   },
   "outputs": [],
   "source": [
    "#for i in scaled_train_samples:\n",
    "    #print(i)"
   ]
  },
  {
   "cell_type": "markdown",
   "id": "d9ec5e80",
   "metadata": {
    "id": "3e164acb"
   },
   "source": [
    "### Simple tf.keras Sequential Model"
   ]
  },
  {
   "cell_type": "code",
   "execution_count": 8,
   "id": "8b8e664a",
   "metadata": {
    "colab": {
     "background_save": true,
     "base_uri": "https://localhost:8080/"
    },
    "executionInfo": {
     "elapsed": 8329,
     "status": "ok",
     "timestamp": 1644698026073,
     "user": {
      "displayName": "Hilton Netta",
      "photoUrl": "https://lh3.googleusercontent.com/a-/AOh14GiFU0LY3XzNII-D3ck-Qu4t62HaiWSV7jRSk9zY5Gk=s64",
      "userId": "12675899029959733562"
     },
     "user_tz": -120
    },
    "id": "eb16aeb9"
   },
   "outputs": [],
   "source": [
    "#!pip3 install tensorflow"
   ]
  },
  {
   "cell_type": "code",
   "execution_count": 10,
   "id": "f69d38d0",
   "metadata": {
    "colab": {
     "base_uri": "https://localhost:8080/",
     "height": 374
    },
    "executionInfo": {
     "elapsed": 2440,
     "status": "error",
     "timestamp": 1644698041327,
     "user": {
      "displayName": "Hilton Netta",
      "photoUrl": "https://lh3.googleusercontent.com/a-/AOh14GiFU0LY3XzNII-D3ck-Qu4t62HaiWSV7jRSk9zY5Gk=s64",
      "userId": "12675899029959733562"
     },
     "user_tz": -120
    },
    "id": "aec2db06",
    "outputId": "9bf22848-d1ad-48c4-92b2-bf4ee0a8a3b2"
   },
   "outputs": [],
   "source": [
    "import tensorflow as tf\n",
    "from tensorflow import keras\n",
    "from tensorflow.keras.models import Sequential\n",
    "from tensorflow.keras.layers import Activation, Dense\n",
    "from tensorflow.keras.optimizers import Adam\n",
    "from tensorflow.keras.metrics import categorical_crossentropy"
   ]
  },
  {
   "cell_type": "code",
   "execution_count": 12,
   "id": "2b3ac912",
   "metadata": {
    "id": "f0abdf6d"
   },
   "outputs": [],
   "source": [
    "# Optional code where GPU is used to process data\n",
    "#physical_devices = tf.config.experimental.list_physical_devices('GPU')\n",
    "#print(\"Number of GPUs available: \", len(physical_devices))\n",
    "#tf.config.experimental.set_memory_growth(physical_devices[0], True)"
   ]
  },
  {
   "cell_type": "code",
   "execution_count": 15,
   "id": "35fef4e8",
   "metadata": {},
   "outputs": [],
   "source": [
    "model = Sequential([\n",
    "    Dense(units = 16, input_shape  =(1, ), activation = 'relu'),\n",
    "    Dense(units = 32, activation = 'relu'),\n",
    "    Dense(units =  2, activation = 'softmax')\n",
    "])"
   ]
  },
  {
   "cell_type": "code",
   "execution_count": 16,
   "id": "b49b025b",
   "metadata": {},
   "outputs": [
    {
     "name": "stdout",
     "output_type": "stream",
     "text": [
      "Model: \"sequential_1\"\n",
      "_________________________________________________________________\n",
      "Layer (type)                 Output Shape              Param #   \n",
      "=================================================================\n",
      "dense_4 (Dense)              (None, 16)                32        \n",
      "_________________________________________________________________\n",
      "dense_5 (Dense)              (None, 32)                544       \n",
      "_________________________________________________________________\n",
      "dense_6 (Dense)              (None, 2)                 66        \n",
      "=================================================================\n",
      "Total params: 642\n",
      "Trainable params: 642\n",
      "Non-trainable params: 0\n",
      "_________________________________________________________________\n"
     ]
    }
   ],
   "source": [
    "model.summary()"
   ]
  },
  {
   "cell_type": "code",
   "execution_count": 17,
   "id": "540ee1ce",
   "metadata": {},
   "outputs": [],
   "source": [
    "model.compile(optimizer = Adam(learning_rate = 0.0001), loss = 'sparse_categorical_crossentropy', metrics = ['accuracy'])"
   ]
  },
  {
   "cell_type": "code",
   "execution_count": 20,
   "id": "49096c7a",
   "metadata": {},
   "outputs": [
    {
     "name": "stdout",
     "output_type": "stream",
     "text": [
      "Epoch 1/30\n",
      "210/210 - 0s - loss: 0.2743 - accuracy: 0.9305\n",
      "Epoch 2/30\n",
      "210/210 - 0s - loss: 0.2722 - accuracy: 0.9329\n",
      "Epoch 3/30\n",
      "210/210 - 0s - loss: 0.2703 - accuracy: 0.9348\n",
      "Epoch 4/30\n",
      "210/210 - 0s - loss: 0.2687 - accuracy: 0.9352\n",
      "Epoch 5/30\n",
      "210/210 - 0s - loss: 0.2674 - accuracy: 0.9343\n",
      "Epoch 6/30\n",
      "210/210 - 0s - loss: 0.2660 - accuracy: 0.9329\n",
      "Epoch 7/30\n",
      "210/210 - 0s - loss: 0.2649 - accuracy: 0.9419\n",
      "Epoch 8/30\n",
      "210/210 - 0s - loss: 0.2639 - accuracy: 0.9338\n",
      "Epoch 9/30\n",
      "210/210 - 0s - loss: 0.2630 - accuracy: 0.9405\n",
      "Epoch 10/30\n",
      "210/210 - 0s - loss: 0.2622 - accuracy: 0.9419\n",
      "Epoch 11/30\n",
      "210/210 - 0s - loss: 0.2615 - accuracy: 0.9419\n",
      "Epoch 12/30\n",
      "210/210 - 0s - loss: 0.2609 - accuracy: 0.9419\n",
      "Epoch 13/30\n",
      "210/210 - 0s - loss: 0.2603 - accuracy: 0.9419\n",
      "Epoch 14/30\n",
      "210/210 - 0s - loss: 0.2598 - accuracy: 0.9419\n",
      "Epoch 15/30\n",
      "210/210 - 0s - loss: 0.2594 - accuracy: 0.9419\n",
      "Epoch 16/30\n",
      "210/210 - 0s - loss: 0.2591 - accuracy: 0.9438\n",
      "Epoch 17/30\n",
      "210/210 - 0s - loss: 0.2586 - accuracy: 0.9419\n",
      "Epoch 18/30\n",
      "210/210 - 0s - loss: 0.2580 - accuracy: 0.9419\n",
      "Epoch 19/30\n",
      "210/210 - 0s - loss: 0.2578 - accuracy: 0.9476\n",
      "Epoch 20/30\n",
      "210/210 - 0s - loss: 0.2576 - accuracy: 0.9419\n",
      "Epoch 21/30\n",
      "210/210 - 0s - loss: 0.2571 - accuracy: 0.9419\n",
      "Epoch 22/30\n",
      "210/210 - 0s - loss: 0.2567 - accuracy: 0.9419\n",
      "Epoch 23/30\n",
      "210/210 - 0s - loss: 0.2564 - accuracy: 0.9419\n",
      "Epoch 24/30\n",
      "210/210 - 0s - loss: 0.2561 - accuracy: 0.9429\n",
      "Epoch 25/30\n",
      "210/210 - 0s - loss: 0.2560 - accuracy: 0.9462\n",
      "Epoch 26/30\n",
      "210/210 - 0s - loss: 0.2553 - accuracy: 0.9419\n",
      "Epoch 27/30\n",
      "210/210 - 0s - loss: 0.2549 - accuracy: 0.9419\n",
      "Epoch 28/30\n",
      "210/210 - 0s - loss: 0.2545 - accuracy: 0.9419\n",
      "Epoch 29/30\n",
      "210/210 - 0s - loss: 0.2542 - accuracy: 0.9419\n",
      "Epoch 30/30\n",
      "210/210 - 0s - loss: 0.2536 - accuracy: 0.9419\n"
     ]
    },
    {
     "data": {
      "text/plain": [
       "<tensorflow.python.keras.callbacks.History at 0x2810830fcd0>"
      ]
     },
     "execution_count": 20,
     "metadata": {},
     "output_type": "execute_result"
    }
   ],
   "source": [
    "model.fit(x=scaled_train_samples, y=train_labels, batch_size = 10, epochs = 30, shuffle = True, verbose = 2)"
   ]
  },
  {
   "cell_type": "code",
   "execution_count": null,
   "id": "791efde5",
   "metadata": {},
   "outputs": [],
   "source": []
  }
 ],
 "metadata": {
  "colab": {
   "name": "Keras_with_Mandy.ipynb",
   "version": ""
  },
  "kernelspec": {
   "display_name": "Python 3",
   "language": "python",
   "name": "python3"
  },
  "language_info": {
   "codemirror_mode": {
    "name": "ipython",
    "version": 3
   },
   "file_extension": ".py",
   "mimetype": "text/x-python",
   "name": "python",
   "nbconvert_exporter": "python",
   "pygments_lexer": "ipython3",
   "version": "3.8.8"
  }
 },
 "nbformat": 4,
 "nbformat_minor": 5
}
