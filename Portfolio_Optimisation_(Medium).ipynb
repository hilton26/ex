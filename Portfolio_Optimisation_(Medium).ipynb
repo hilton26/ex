{
 "cells": [
  {
   "cell_type": "markdown",
   "id": "b91aea90",
   "metadata": {},
   "source": [
    "### Medium\n",
    "#### How to start creating a stock portfolio using Optimization Algorithms\n",
    "https://medium.com/@eduardo.garcia.sv/if-you-dont-have-any-idea-how-to-create-a-stock-portfolio-this-will-help-you-99efc92cd4d5\n",
    "\n",
    "\n",
    "#### Analyzing Alpha\n",
    "https://analyzingalpha.com/yfinance-python"
   ]
  },
  {
   "cell_type": "markdown",
   "id": "14acdc03",
   "metadata": {},
   "source": [
    "#### Tools to use"
   ]
  },
  {
   "cell_type": "code",
   "execution_count": 42,
   "id": "2f8feeb2",
   "metadata": {},
   "outputs": [],
   "source": [
    "import yfinance as yf # !pip install yfinance\n",
    "import pandas as pd\n",
    "import numpy as np\n",
    "import matplotlib.pyplot as plt"
   ]
  },
  {
   "cell_type": "markdown",
   "id": "0d46b501",
   "metadata": {},
   "source": [
    "#### Step 1: Setting up the Variables"
   ]
  },
  {
   "cell_type": "code",
   "execution_count": 14,
   "id": "3b7e0c54",
   "metadata": {},
   "outputs": [],
   "source": [
    "benchmark = ['^GSPC',]\n",
    "portfolio = ['AAPL', 'MSFT', 'TSLA', 'BRK-B', 'SPGI', 'BLK', 'IWDA.L', 'ULVR.L', 'SNOW', 'DTE.DE', 'UGAS.MI', 'EUNL.DE', 'EXXT.DE', 'GOOG', 'AMZN', 'SHOP', 'VOW.DE', 'MC.PA', 'DAX', 'ABNB', 'BX', 'COST', 'JNJ', 'NKE', 'PYPL' , 'QCOM', 'WM']\n",
    "\n",
    "start_date = '2017-01-01'\n",
    "end_date = '2022-11-25'\n",
    "number_of_scenarios = 10_000 # '_' is a useful separator for thousands\n",
    "\n",
    "returns_vector = []\n",
    "risk_vector = []\n",
    "distribution_vector = []"
   ]
  },
  {
   "cell_type": "markdown",
   "id": "aafaaa93",
   "metadata": {},
   "source": [
    "#### Step 2: Downloading and Cleaning the Data"
   ]
  },
  {
   "cell_type": "code",
   "execution_count": 18,
   "id": "3f07ffab",
   "metadata": {},
   "outputs": [
    {
     "name": "stdout",
     "output_type": "stream",
     "text": [
      "[*********************100%***********************]  1 of 1 completed\n",
      "[*********************100%***********************]  27 of 27 completed\n"
     ]
    }
   ],
   "source": [
    "# Get benchmark and portfolio information\n",
    "dfBenchmark = yf.download(benchmark, start = start_date, end = end_date)\n",
    "dfPortfolio = yf.download(portfolio, start = start_date, end = end_date)"
   ]
  },
  {
   "cell_type": "code",
   "execution_count": 19,
   "id": "3d21bf4e",
   "metadata": {},
   "outputs": [],
   "source": [
    "# Clean rows with no values in the benchmark and portfolio dataframes\n",
    "dfBenchmark = dfBenchmark.dropna(axis = 0)\n",
    "dfPortfolio = dfPortfolio.dropna(axis = 0)"
   ]
  },
  {
   "cell_type": "code",
   "execution_count": 20,
   "id": "da27bdf5",
   "metadata": {},
   "outputs": [],
   "source": [
    "# Matching the days\n",
    "dfBenchmark = dfBenchmark[dfBenchmark.index.isin(dfPortfolio.index)]"
   ]
  },
  {
   "cell_type": "markdown",
   "id": "9faba88c",
   "metadata": {},
   "source": [
    "#### Step 3: Analysing the market benchmark"
   ]
  },
  {
   "cell_type": "code",
   "execution_count": 21,
   "id": "45cc44aa",
   "metadata": {},
   "outputs": [
    {
     "data": {
      "text/html": [
       "<div>\n",
       "<style scoped>\n",
       "    .dataframe tbody tr th:only-of-type {\n",
       "        vertical-align: middle;\n",
       "    }\n",
       "\n",
       "    .dataframe tbody tr th {\n",
       "        vertical-align: top;\n",
       "    }\n",
       "\n",
       "    .dataframe thead th {\n",
       "        text-align: right;\n",
       "    }\n",
       "</style>\n",
       "<table border=\"1\" class=\"dataframe\">\n",
       "  <thead>\n",
       "    <tr style=\"text-align: right;\">\n",
       "      <th></th>\n",
       "      <th>Open</th>\n",
       "      <th>High</th>\n",
       "      <th>Low</th>\n",
       "      <th>Close</th>\n",
       "      <th>Adj Close</th>\n",
       "      <th>Volume</th>\n",
       "    </tr>\n",
       "    <tr>\n",
       "      <th>Date</th>\n",
       "      <th></th>\n",
       "      <th></th>\n",
       "      <th></th>\n",
       "      <th></th>\n",
       "      <th></th>\n",
       "      <th></th>\n",
       "    </tr>\n",
       "  </thead>\n",
       "  <tbody>\n",
       "    <tr>\n",
       "      <th>2020-12-10</th>\n",
       "      <td>3659.129883</td>\n",
       "      <td>3678.489990</td>\n",
       "      <td>3645.179932</td>\n",
       "      <td>3668.100098</td>\n",
       "      <td>3668.100098</td>\n",
       "      <td>4658480000</td>\n",
       "    </tr>\n",
       "    <tr>\n",
       "      <th>2020-12-11</th>\n",
       "      <td>3656.080078</td>\n",
       "      <td>3665.909912</td>\n",
       "      <td>3633.399902</td>\n",
       "      <td>3663.459961</td>\n",
       "      <td>3663.459961</td>\n",
       "      <td>4375470000</td>\n",
       "    </tr>\n",
       "    <tr>\n",
       "      <th>2020-12-14</th>\n",
       "      <td>3675.270020</td>\n",
       "      <td>3697.610107</td>\n",
       "      <td>3645.840088</td>\n",
       "      <td>3647.489990</td>\n",
       "      <td>3647.489990</td>\n",
       "      <td>4623850000</td>\n",
       "    </tr>\n",
       "    <tr>\n",
       "      <th>2020-12-15</th>\n",
       "      <td>3666.409912</td>\n",
       "      <td>3695.290039</td>\n",
       "      <td>3659.620117</td>\n",
       "      <td>3694.620117</td>\n",
       "      <td>3694.620117</td>\n",
       "      <td>4387080000</td>\n",
       "    </tr>\n",
       "    <tr>\n",
       "      <th>2020-12-16</th>\n",
       "      <td>3696.250000</td>\n",
       "      <td>3711.270020</td>\n",
       "      <td>3688.570068</td>\n",
       "      <td>3701.169922</td>\n",
       "      <td>3701.169922</td>\n",
       "      <td>4067040000</td>\n",
       "    </tr>\n",
       "  </tbody>\n",
       "</table>\n",
       "</div>"
      ],
      "text/plain": [
       "                   Open         High          Low        Close    Adj Close  \\\n",
       "Date                                                                          \n",
       "2020-12-10  3659.129883  3678.489990  3645.179932  3668.100098  3668.100098   \n",
       "2020-12-11  3656.080078  3665.909912  3633.399902  3663.459961  3663.459961   \n",
       "2020-12-14  3675.270020  3697.610107  3645.840088  3647.489990  3647.489990   \n",
       "2020-12-15  3666.409912  3695.290039  3659.620117  3694.620117  3694.620117   \n",
       "2020-12-16  3696.250000  3711.270020  3688.570068  3701.169922  3701.169922   \n",
       "\n",
       "                Volume  \n",
       "Date                    \n",
       "2020-12-10  4658480000  \n",
       "2020-12-11  4375470000  \n",
       "2020-12-14  4623850000  \n",
       "2020-12-15  4387080000  \n",
       "2020-12-16  4067040000  "
      ]
     },
     "execution_count": 21,
     "metadata": {},
     "output_type": "execute_result"
    }
   ],
   "source": [
    "dfBenchmark.head()"
   ]
  },
  {
   "cell_type": "code",
   "execution_count": 26,
   "id": "24c421ca",
   "metadata": {},
   "outputs": [],
   "source": [
    "# Create benchmark vector from prices at the close\n",
    "benchmark_vector = np.array(df['Close'])\n",
    "\n",
    "# Calculate the daily returns of the benchmark\n",
    "benchmark_vector = np.diff(benchmark_vector) / benchmark_vector[1:]\n",
    "\n",
    "# Select the final return and risk (?!)\n",
    "benchmark_return = np.average(benchmark_vector)\n",
    "benchmark_risk = np.std(benchmark_vector)\n",
    "\n",
    "# Add the benchmark information into the empty lists created in step 1\n",
    "returns_vector.append(benchmark_return)\n",
    "risk_vector.append(benchmark_risk)"
   ]
  },
  {
   "cell_type": "markdown",
   "id": "7d86fc78",
   "metadata": {},
   "source": [
    "#### Step 4: Analysing the portfolio data\n",
    "Follow the same proceudre as abobe but with two extra steps:\n",
    "1. Create a loop sequence that will do the exercise 10,000 times\n",
    "2. Create a random distribution for generating each portfolio and to make it unique"
   ]
  },
  {
   "cell_type": "code",
   "execution_count": 31,
   "id": "c6255047",
   "metadata": {},
   "outputs": [],
   "source": [
    "# Analysis of the portfolio\n",
    "portfolio_vector = np.array(dfPortfolio['Close'])\n",
    "\n",
    "# Create a loop for the desired number of scenarios:\n",
    "for i in range(number_of_scenarios):\n",
    "    # create a random distribution that sums to 1 and that\n",
    "    # is split by the number of stocks in the portfolio\n",
    "    random_distribution = np.random.dirichlet(np.ones(len(portfolio)), size = 1)\n",
    "    distribution_vector.append(random_distribution)\n",
    "    \n",
    "    # find the closing price for every day of the portfolio\n",
    "    portfolio_matmul = np.matmul(random_distribution, portfolio_vector.T)\n",
    "    \n",
    "    # calculate the daily returns\n",
    "    portfolio_matmul = np.diff(portfolio_matmul) / portfolio_matmul[:,1:]\n",
    "    \n",
    "    # select the final return and risk\n",
    "    portfolio_return = np.average(portfolio_matmul, axis = 1)\n",
    "    portfolio_risk = np.std(portfolio_matmul, axis = 1)\n",
    "    \n",
    "    # add the benchmark info to the return and risk vectors (i.e., the lists created in step 1)\n",
    "    returns_vector.append(portfolio_return[0])\n",
    "    risk_vector.append(portfolio_risk[0])"
   ]
  },
  {
   "cell_type": "markdown",
   "id": "a2f62175",
   "metadata": {},
   "source": [
    "#### Step 5: Select the best portfolio from the scenarios\n",
    "The criterion for the best portfolio is to have the minimum risk, meaning that the stock is at least as volatile as the market. For understanding the risk we’ve being using the Standard Deviation.\n",
    "\n",
    "And once we have calculated this “minimum risk” we will find the highest return possible. This way we are finding a porfolio that in the past has performed better than the market."
   ]
  },
  {
   "cell_type": "code",
   "execution_count": 38,
   "id": "26958ac0",
   "metadata": {},
   "outputs": [],
   "source": [
    "# Create risk boundaries\n",
    "delta_risk = 0.05\n",
    "min_risk = np.min(risk_vector)\n",
    "max_risk = risk_vector[0]*(1 - delta_risk)\n",
    "risk_gap = [min_risk, max_risk]\n",
    "\n",
    "# Portfolio return and risk couple\n",
    "portfolio_array = np.column_stack((returns_vector, risk_vector))[1:,]\n",
    "\n",
    "# Rule to create the best portfolio\n",
    "# If the criterion of risk minimum is satisfied then:\n",
    "if np.where(((portfolio_array[:,1] <= max_risk)))[0].shape[0] > 1:\n",
    "    min_risk_portfolio = np.where(((portfolio_array[:,1] <= max_risk)))[0]\n",
    "    best_portfolio_loc = portfolio_array[min_risk_portfolio]\n",
    "    max_loc = np.argmax(best_portfolio_loc[:,0])\n",
    "    best_portfolio = best_portfolio_loc[max_loc]\n",
    "    \n",
    "# if the criterion of minimum risk is not satisfied then:\n",
    "else:\n",
    "    min_risk_portfolio = np.where(((portfolio_array[:,1] ==np.min(risk_vector[1:]))))[0]\n",
    "    best_portfolio_loc = portfolio_array[min_risk_portfolio]\n",
    "    max_loc = np.argmax(best_portfolio_loc[:,0])\n",
    "    best_portfolio = best_portfolio_loc[max_loc]"
   ]
  },
  {
   "cell_type": "markdown",
   "id": "aa0b76c3",
   "metadata": {},
   "source": [
    "#### Step 6: Select the best portfolio from the scenarios\n",
    "We’re going to plot the risk on the x-axis and the return on the y-axis.\n",
    "\n",
    "In this next image, you can see the market performing (red dot) and then the maximum return at the minimum risk. Meaning that if you would’ve held that portfolio between start and end date, you would’ve had a better portfolio than the market benchmark."
   ]
  },
  {
   "cell_type": "code",
   "execution_count": 39,
   "id": "d1b71a8e",
   "metadata": {},
   "outputs": [
    {
     "name": "stderr",
     "output_type": "stream",
     "text": [
      "C:\\Users\\hilton.netta\\AppData\\Local\\Temp\\ipykernel_5648\\2181262339.py:43: UserWarning: FixedFormatter should only be used together with FixedLocator\n",
      "  ax.set_yticklabels(['{:,.2%}'.format(x) for x in vals])\n"
     ]
    },
    {
     "data": {
      "text/plain": [
       "[Text(0, -0.25, '-25.00%'),\n",
       " Text(0, -0.2, '-20.00%'),\n",
       " Text(0, -0.15, '-15.00%'),\n",
       " Text(0, -0.09999999999999998, '-10.00%'),\n",
       " Text(0, -0.04999999999999999, '-5.00%'),\n",
       " Text(0, 0.0, '0.00%'),\n",
       " Text(0, 0.050000000000000044, '5.00%'),\n",
       " Text(0, 0.10000000000000003, '10.00%'),\n",
       " Text(0, 0.15000000000000002, '15.00%')]"
      ]
     },
     "execution_count": 39,
     "metadata": {},
     "output_type": "execute_result"
    },
    {
     "data": {
      "image/png": "[encoded data removed]",
      "text/plain": [
       "<Figure size 432x288 with 1 Axes>"
      ]
     },
     "metadata": {
      "needs_background": "light"
     },
     "output_type": "display_data"
    }
   ],
   "source": [
    "#Visual Representation\n",
    "trade_days_per_year = 252\n",
    "risk_gap = np.array(risk_gap) * trade_days_per_year\n",
    "best_portfolio[0] = np.array(best_portfolio[0]) * trade_days_per_year\n",
    "x = np.array(risk_vector)\n",
    "y = np.array(returns_vector) * trade_days_per_year\n",
    "\n",
    "fig, ax = plt.subplots()\n",
    "ax.scatter(x, y, alpha=0.5, \n",
    "           linewidths=0.1,  \n",
    "           edgecolors='black', \n",
    "           label='Portfolio Scenarios'\n",
    "            )\n",
    "\n",
    "ax.scatter(x[0], \n",
    "           y[0], \n",
    "           color='red', \n",
    "           linewidths=1,  \n",
    "           edgecolors='black', \n",
    "           label='Market Proxy Values')\n",
    " \n",
    "ax.scatter(best_portfolio[1], \n",
    "            best_portfolio[0], \n",
    "            color='green', \n",
    "            linewidths=1,  \n",
    "            edgecolors='black', \n",
    "            label='Best Performer')\n",
    "\n",
    "ax.axvspan(min_risk,\n",
    "           max_risk, \n",
    "           color='red', \n",
    "           alpha=0.08,\n",
    "           label='Accepted Risk Zone')\n",
    "\n",
    "ax.set_ylabel(\"Yearly Portfolio Average Return (%)\")\n",
    "ax.set_xlabel(\"Yearly Portfolio Standard Deviation\")\n",
    "\n",
    "ax.axhline(y=0, color='black',alpha=0.5)\n",
    "\n",
    "ax = plt.gca()\n",
    "ax.legend(loc=0)\n",
    "vals = ax.get_yticks()\n",
    "ax.set_yticklabels(['{:,.2%}'.format(x) for x in vals])\n",
    "# ax.set_xticklabels(['{:,.2%}'.format(x) for x in vals])"
   ]
  },
  {
   "cell_type": "code",
   "execution_count": 43,
   "id": "f1b03230",
   "metadata": {},
   "outputs": [
    {
     "data": {
      "text/html": [
       "<style type=\"text/css\">\n",
       "</style>\n",
       "<table id=\"T_2cf14\">\n",
       "  <thead>\n",
       "    <tr>\n",
       "      <th class=\"blank level0\" >&nbsp;</th>\n",
       "      <th id=\"T_2cf14_level0_col0\" class=\"col_heading level0 col0\" >Stock Name</th>\n",
       "      <th id=\"T_2cf14_level0_col1\" class=\"col_heading level0 col1\" >Stock % in Portfolio</th>\n",
       "    </tr>\n",
       "  </thead>\n",
       "  <tbody>\n",
       "    <tr>\n",
       "      <th id=\"T_2cf14_level0_row0\" class=\"row_heading level0 row0\" >23</th>\n",
       "      <td id=\"T_2cf14_row0_col0\" class=\"data row0 col0\" >NKE</td>\n",
       "      <td id=\"T_2cf14_row0_col1\" class=\"data row0 col1\" >12.56%</td>\n",
       "    </tr>\n",
       "    <tr>\n",
       "      <th id=\"T_2cf14_level0_row1\" class=\"row_heading level0 row1\" >10</th>\n",
       "      <td id=\"T_2cf14_row1_col0\" class=\"data row1 col0\" >UGAS.MI</td>\n",
       "      <td id=\"T_2cf14_row1_col1\" class=\"data row1 col1\" >9.53%</td>\n",
       "    </tr>\n",
       "    <tr>\n",
       "      <th id=\"T_2cf14_level0_row2\" class=\"row_heading level0 row2\" >20</th>\n",
       "      <td id=\"T_2cf14_row2_col0\" class=\"data row2 col0\" >BX</td>\n",
       "      <td id=\"T_2cf14_row2_col1\" class=\"data row2 col1\" >7.07%</td>\n",
       "    </tr>\n",
       "    <tr>\n",
       "      <th id=\"T_2cf14_level0_row3\" class=\"row_heading level0 row3\" >25</th>\n",
       "      <td id=\"T_2cf14_row3_col0\" class=\"data row3 col0\" >QCOM</td>\n",
       "      <td id=\"T_2cf14_row3_col1\" class=\"data row3 col1\" >6.84%</td>\n",
       "    </tr>\n",
       "    <tr>\n",
       "      <th id=\"T_2cf14_level0_row4\" class=\"row_heading level0 row4\" >0</th>\n",
       "      <td id=\"T_2cf14_row4_col0\" class=\"data row4 col0\" >AAPL</td>\n",
       "      <td id=\"T_2cf14_row4_col1\" class=\"data row4 col1\" >6.48%</td>\n",
       "    </tr>\n",
       "    <tr>\n",
       "      <th id=\"T_2cf14_level0_row5\" class=\"row_heading level0 row5\" >15</th>\n",
       "      <td id=\"T_2cf14_row5_col0\" class=\"data row5 col0\" >SHOP</td>\n",
       "      <td id=\"T_2cf14_row5_col1\" class=\"data row5 col1\" >5.41%</td>\n",
       "    </tr>\n",
       "    <tr>\n",
       "      <th id=\"T_2cf14_level0_row6\" class=\"row_heading level0 row6\" >19</th>\n",
       "      <td id=\"T_2cf14_row6_col0\" class=\"data row6 col0\" >ABNB</td>\n",
       "      <td id=\"T_2cf14_row6_col1\" class=\"data row6 col1\" >4.95%</td>\n",
       "    </tr>\n",
       "    <tr>\n",
       "      <th id=\"T_2cf14_level0_row7\" class=\"row_heading level0 row7\" >2</th>\n",
       "      <td id=\"T_2cf14_row7_col0\" class=\"data row7 col0\" >TSLA</td>\n",
       "      <td id=\"T_2cf14_row7_col1\" class=\"data row7 col1\" >4.76%</td>\n",
       "    </tr>\n",
       "    <tr>\n",
       "      <th id=\"T_2cf14_level0_row8\" class=\"row_heading level0 row8\" >7</th>\n",
       "      <td id=\"T_2cf14_row8_col0\" class=\"data row8 col0\" >ULVR.L</td>\n",
       "      <td id=\"T_2cf14_row8_col1\" class=\"data row8 col1\" >4.74%</td>\n",
       "    </tr>\n",
       "    <tr>\n",
       "      <th id=\"T_2cf14_level0_row9\" class=\"row_heading level0 row9\" >24</th>\n",
       "      <td id=\"T_2cf14_row9_col0\" class=\"data row9 col0\" >PYPL</td>\n",
       "      <td id=\"T_2cf14_row9_col1\" class=\"data row9 col1\" >4.25%</td>\n",
       "    </tr>\n",
       "    <tr>\n",
       "      <th id=\"T_2cf14_level0_row10\" class=\"row_heading level0 row10\" >21</th>\n",
       "      <td id=\"T_2cf14_row10_col0\" class=\"data row10 col0\" >COST</td>\n",
       "      <td id=\"T_2cf14_row10_col1\" class=\"data row10 col1\" >4.19%</td>\n",
       "    </tr>\n",
       "    <tr>\n",
       "      <th id=\"T_2cf14_level0_row11\" class=\"row_heading level0 row11\" >4</th>\n",
       "      <td id=\"T_2cf14_row11_col0\" class=\"data row11 col0\" >SPGI</td>\n",
       "      <td id=\"T_2cf14_row11_col1\" class=\"data row11 col1\" >4.05%</td>\n",
       "    </tr>\n",
       "    <tr>\n",
       "      <th id=\"T_2cf14_level0_row12\" class=\"row_heading level0 row12\" >5</th>\n",
       "      <td id=\"T_2cf14_row12_col0\" class=\"data row12 col0\" >BLK</td>\n",
       "      <td id=\"T_2cf14_row12_col1\" class=\"data row12 col1\" >3.68%</td>\n",
       "    </tr>\n",
       "    <tr>\n",
       "      <th id=\"T_2cf14_level0_row13\" class=\"row_heading level0 row13\" >8</th>\n",
       "      <td id=\"T_2cf14_row13_col0\" class=\"data row13 col0\" >SNOW</td>\n",
       "      <td id=\"T_2cf14_row13_col1\" class=\"data row13 col1\" >3.50%</td>\n",
       "    </tr>\n",
       "    <tr>\n",
       "      <th id=\"T_2cf14_level0_row14\" class=\"row_heading level0 row14\" >13</th>\n",
       "      <td id=\"T_2cf14_row14_col0\" class=\"data row14 col0\" >GOOG</td>\n",
       "      <td id=\"T_2cf14_row14_col1\" class=\"data row14 col1\" >3.43%</td>\n",
       "    </tr>\n",
       "    <tr>\n",
       "      <th id=\"T_2cf14_level0_row15\" class=\"row_heading level0 row15\" >6</th>\n",
       "      <td id=\"T_2cf14_row15_col0\" class=\"data row15 col0\" >IWDA.L</td>\n",
       "      <td id=\"T_2cf14_row15_col1\" class=\"data row15 col1\" >2.97%</td>\n",
       "    </tr>\n",
       "    <tr>\n",
       "      <th id=\"T_2cf14_level0_row16\" class=\"row_heading level0 row16\" >18</th>\n",
       "      <td id=\"T_2cf14_row16_col0\" class=\"data row16 col0\" >DAX</td>\n",
       "      <td id=\"T_2cf14_row16_col1\" class=\"data row16 col1\" >2.71%</td>\n",
       "    </tr>\n",
       "    <tr>\n",
       "      <th id=\"T_2cf14_level0_row17\" class=\"row_heading level0 row17\" >16</th>\n",
       "      <td id=\"T_2cf14_row17_col0\" class=\"data row17 col0\" >VOW.DE</td>\n",
       "      <td id=\"T_2cf14_row17_col1\" class=\"data row17 col1\" >2.05%</td>\n",
       "    </tr>\n",
       "    <tr>\n",
       "      <th id=\"T_2cf14_level0_row18\" class=\"row_heading level0 row18\" >3</th>\n",
       "      <td id=\"T_2cf14_row18_col0\" class=\"data row18 col0\" >BRK-B</td>\n",
       "      <td id=\"T_2cf14_row18_col1\" class=\"data row18 col1\" >1.75%</td>\n",
       "    </tr>\n",
       "    <tr>\n",
       "      <th id=\"T_2cf14_level0_row19\" class=\"row_heading level0 row19\" >12</th>\n",
       "      <td id=\"T_2cf14_row19_col0\" class=\"data row19 col0\" >EXXT.DE</td>\n",
       "      <td id=\"T_2cf14_row19_col1\" class=\"data row19 col1\" >1.21%</td>\n",
       "    </tr>\n",
       "    <tr>\n",
       "      <th id=\"T_2cf14_level0_row20\" class=\"row_heading level0 row20\" >11</th>\n",
       "      <td id=\"T_2cf14_row20_col0\" class=\"data row20 col0\" >EUNL.DE</td>\n",
       "      <td id=\"T_2cf14_row20_col1\" class=\"data row20 col1\" >1.06%</td>\n",
       "    </tr>\n",
       "    <tr>\n",
       "      <th id=\"T_2cf14_level0_row21\" class=\"row_heading level0 row21\" >26</th>\n",
       "      <td id=\"T_2cf14_row21_col0\" class=\"data row21 col0\" >WM</td>\n",
       "      <td id=\"T_2cf14_row21_col1\" class=\"data row21 col1\" >1.01%</td>\n",
       "    </tr>\n",
       "    <tr>\n",
       "      <th id=\"T_2cf14_level0_row22\" class=\"row_heading level0 row22\" >9</th>\n",
       "      <td id=\"T_2cf14_row22_col0\" class=\"data row22 col0\" >DTE.DE</td>\n",
       "      <td id=\"T_2cf14_row22_col1\" class=\"data row22 col1\" >0.77%</td>\n",
       "    </tr>\n",
       "    <tr>\n",
       "      <th id=\"T_2cf14_level0_row23\" class=\"row_heading level0 row23\" >22</th>\n",
       "      <td id=\"T_2cf14_row23_col0\" class=\"data row23 col0\" >JNJ</td>\n",
       "      <td id=\"T_2cf14_row23_col1\" class=\"data row23 col1\" >0.69%</td>\n",
       "    </tr>\n",
       "    <tr>\n",
       "      <th id=\"T_2cf14_level0_row24\" class=\"row_heading level0 row24\" >1</th>\n",
       "      <td id=\"T_2cf14_row24_col0\" class=\"data row24 col0\" >MSFT</td>\n",
       "      <td id=\"T_2cf14_row24_col1\" class=\"data row24 col1\" >0.21%</td>\n",
       "    </tr>\n",
       "    <tr>\n",
       "      <th id=\"T_2cf14_level0_row25\" class=\"row_heading level0 row25\" >14</th>\n",
       "      <td id=\"T_2cf14_row25_col0\" class=\"data row25 col0\" >AMZN</td>\n",
       "      <td id=\"T_2cf14_row25_col1\" class=\"data row25 col1\" >0.09%</td>\n",
       "    </tr>\n",
       "    <tr>\n",
       "      <th id=\"T_2cf14_level0_row26\" class=\"row_heading level0 row26\" >17</th>\n",
       "      <td id=\"T_2cf14_row26_col0\" class=\"data row26 col0\" >MC.PA</td>\n",
       "      <td id=\"T_2cf14_row26_col1\" class=\"data row26 col1\" >0.03%</td>\n",
       "    </tr>\n",
       "  </tbody>\n",
       "</table>\n"
      ],
      "text/plain": [
       "<pandas.io.formats.style.Styler at 0x21965960ac0>"
      ]
     },
     "execution_count": 43,
     "metadata": {},
     "output_type": "execute_result"
    }
   ],
   "source": [
    "#Output Table of Distributions\n",
    "portfolio_loc = np.where((portfolio_array[:,0] == (best_portfolio[0] / trade_days_per_year)) & (portfolio_array[:,1] == (best_portfolio[1])))[0][0]\n",
    "best_distribution = distribution_vector[portfolio_loc][0].tolist()\n",
    "d = {\"Stock Name\": portfolio, \"Stock % in Portfolio\": best_distribution}\n",
    "output = pd.DataFrame(d)\n",
    "output = output.sort_values(by=[\"Stock % in Portfolio\"], ascending = False)\n",
    "output= output.style.format({\"Stock % in Portfolio\": \"{:.2%}\"})\n",
    "output"
   ]
  },
  {
   "cell_type": "code",
   "execution_count": null,
   "id": "47c7394a",
   "metadata": {},
   "outputs": [],
   "source": []
  }
 ],
 "metadata": {
  "kernelspec": {
   "display_name": "Python 3 (ipykernel)",
   "language": "python",
   "name": "python3"
  },
  "language_info": {
   "codemirror_mode": {
    "name": "ipython",
    "version": 3
   },
   "file_extension": ".py",
   "mimetype": "text/x-python",
   "name": "python",
   "nbconvert_exporter": "python",
   "pygments_lexer": "ipython3",
   "version": "3.9.12"
  }
 },
 "nbformat": 4,
 "nbformat_minor": 5
}
