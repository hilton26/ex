{
 "cells": [
  {
   "cell_type": "markdown",
   "id": "9165024c",
   "metadata": {},
   "source": [
    "### Download Every Stock in the World<br>\n",
    "https://www.youtube.com/watch?v=xzBcPoxue-g"
   ]
  },
  {
   "cell_type": "code",
   "execution_count": 2,
   "id": "f4b8044c",
   "metadata": {},
   "outputs": [],
   "source": [
    "# import libraries\n",
    "import numpy as np\n",
    "import pandas as pd\n",
    "import matplotlib.pyplot as plt\n",
    "import matplotlib.dates as mdates\n",
    "%matplotlib inline\n",
    "\n",
    "import datetime as dt\n",
    "import time\n",
    "\n",
    "import yfinance as yf"
   ]
  },
  {
   "cell_type": "markdown",
   "id": "2633d051",
   "metadata": {},
   "source": [
    "### YFinance"
   ]
  },
  {
   "cell_type": "code",
   "execution_count": 11,
   "id": "7ffe4e46",
   "metadata": {},
   "outputs": [],
   "source": [
    "def get_info_on_stock(ticker):\n",
    "    stock = yf.Ticker(ticker)\n",
    "    hist = stock.history(period='max')['Close']\n",
    "    \n",
    "    print(stock.recommendations)"
   ]
  },
  {
   "cell_type": "code",
   "execution_count": 12,
   "id": "8e8b08c7",
   "metadata": {},
   "outputs": [
    {
     "name": "stdout",
     "output_type": "stream",
     "text": [
      "                              Firm        To Grade From Grade Action\n",
      "Date                                                                \n",
      "2012-02-16 07:42:00      JP Morgan      Overweight              main\n",
      "2012-02-16 13:53:00     Wunderlich            Hold              down\n",
      "2012-02-17 06:17:00     Oxen Group             Buy              init\n",
      "2012-03-26 07:31:00     Wunderlich             Buy                up\n",
      "2012-05-22 05:57:00    Maxim Group             Buy              init\n",
      "...                            ...             ...        ...    ...\n",
      "2022-02-25 11:15:53  Daiwa Capital      Outperform    Neutral     up\n",
      "2022-04-04 10:49:23      JP Morgan     Underweight              main\n",
      "2022-04-04 11:51:39            UBS         Neutral              main\n",
      "2022-04-04 12:59:29    Cowen & Co.  Market Perform              main\n",
      "2022-04-18 12:55:24  Piper Sandler      Overweight              main\n",
      "\n",
      "[438 rows x 4 columns]\n"
     ]
    }
   ],
   "source": [
    "get_info_on_stock(\"TSLA\")"
   ]
  },
  {
   "cell_type": "markdown",
   "id": "c21d8938",
   "metadata": {},
   "source": [
    "### Holds Stocks Not Downloaded"
   ]
  },
  {
   "cell_type": "code",
   "execution_count": 19,
   "id": "d9ab16e4",
   "metadata": {},
   "outputs": [],
   "source": [
    "# initialise lists for undownloaded and missing stocks\n",
    "\n",
    "stocks_not_downloaded =[]\n",
    "missing_stocks = []"
   ]
  },
  {
   "cell_type": "markdown",
   "id": "17ae2b0c",
   "metadata": {},
   "source": [
    "### Function that Returns a Stock Dataframe from a CSV"
   ]
  },
  {
   "cell_type": "code",
   "execution_count": 20,
   "id": "1170ab74",
   "metadata": {},
   "outputs": [],
   "source": [
    "# reads the dataframe from the csv file, chnages the index to date, and returns it\n",
    "def get_stock_df_from_csv(folder, ticker):\n",
    "    #try to get the file and, if it does not exist, issue a warning\n",
    "    try:\n",
    "        df = pd.read_csv(folder + ticker + '.csv')\n",
    "    except FileNotFoundError:\n",
    "        print(\"File doesn't exist\")\n",
    "    else:\n",
    "        return df"
   ]
  },
  {
   "cell_type": "markdown",
   "id": "2d4a388e",
   "metadata": {},
   "source": [
    "### Returns an Named Column's Data from a CSV"
   ]
  },
  {
   "cell_type": "code",
   "execution_count": 21,
   "id": "7cfd1ad4",
   "metadata": {},
   "outputs": [],
   "source": [
    "def get_column_from_csv(file, col_name):\n",
    "    #try to get the file and, if it does not exist, issue a warning\n",
    "    try:\n",
    "        df = pd.read_csv(file)\n",
    "    except FileNotFoundError:\n",
    "        print(\"File doesn't exist\")\n",
    "    else:\n",
    "        return df[col_name]"
   ]
  },
  {
   "cell_type": "markdown",
   "id": "ffaf185e",
   "metadata": {},
   "source": [
    "### Get Stock Tickers"
   ]
  },
  {
   "cell_type": "code",
   "execution_count": 29,
   "id": "e23b95ef",
   "metadata": {},
   "outputs": [
    {
     "data": {
      "text/plain": [
       "0       4SI.JO\n",
       "1      ABSP.JO\n",
       "2       APF.JO\n",
       "3       ACE.JO\n",
       "4       ACS.JO\n",
       "        ...   \n",
       "394     WHL.JO\n",
       "395     WKF.JO\n",
       "396     YRK.JO\n",
       "397     ZCI.JO\n",
       "398     ZED.JO\n",
       "Name: Ticker, Length: 399, dtype: object"
      ]
     },
     "execution_count": 29,
     "metadata": {},
     "output_type": "execute_result"
    }
   ],
   "source": [
    "pth = r'C:\\Users\\hilton.netta\\py\\Python4Finance\\Johannesburg.csv'\n",
    "tickers = get_column_from_csv(pth, \"Ticker\")\n",
    "tickers"
   ]
  },
  {
   "cell_type": "markdown",
   "id": "446f6a76",
   "metadata": {},
   "source": [
    "### Function that Saves Stock Data to CSV"
   ]
  },
  {
   "cell_type": "code",
   "execution_count": 31,
   "id": "6cb87c81",
   "metadata": {},
   "outputs": [],
   "source": [
    "def save_to_csv_from_yahoo(folder, ticker):\n",
    "    stock = yf.Ticker(ticker)\n",
    "    try:\n",
    "        print(\"Get data for: \", ticker)\n",
    "        df = stock.history(period = 'max')['Close']\n",
    "        time.sleep(2)\n",
    "        if df.empty:\n",
    "            stocks_not_downloaded.append(ticker)\n",
    "        the_file = folder + ticker.replace(\".\",\"_\") + '.csv'\n",
    "        print(the_file, \" saved\")\n",
    "        df.to_csv(the_file)\n",
    "    except Exception as ex:\n",
    "        stocks_not_downloaded.append(ticker)\n",
    "        print(\"Couldn't get data for: \",ticker)"
   ]
  },
  {
   "cell_type": "markdown",
   "id": "7d4f1634",
   "metadata": {},
   "source": [
    "### Get Five Years of Data for the First 20 Stocks"
   ]
  },
  {
   "cell_type": "code",
   "execution_count": 34,
   "id": "42b81202",
   "metadata": {},
   "outputs": [
    {
     "name": "stdout",
     "output_type": "stream",
     "text": [
      "Get data for:  4SI.JO\n",
      "C:\\Users\\hilton.netta\\py\\Python4Finance\\StockData\\\\4SI_JO.csv  saved\n",
      "Get data for:  ABSP.JO\n",
      "C:\\Users\\hilton.netta\\py\\Python4Finance\\StockData\\\\ABSP_JO.csv  saved\n",
      "Get data for:  APF.JO\n",
      "C:\\Users\\hilton.netta\\py\\Python4Finance\\StockData\\\\APF_JO.csv  saved\n",
      "Get data for:  ACE.JO\n",
      "- ACE.JO: No data found, symbol may be delisted\n",
      "C:\\Users\\hilton.netta\\py\\Python4Finance\\StockData\\\\ACE_JO.csv  saved\n",
      "Get data for:  ACS.JO\n",
      "C:\\Users\\hilton.netta\\py\\Python4Finance\\StockData\\\\ACS_JO.csv  saved\n",
      "Get data for:  ADI.JO\n",
      "- ADI.JO: No data found, symbol may be delisted\n",
      "C:\\Users\\hilton.netta\\py\\Python4Finance\\StockData\\\\ADI_JO.csv  saved\n",
      "Get data for:  AIP.JO\n",
      "C:\\Users\\hilton.netta\\py\\Python4Finance\\StockData\\\\AIP_JO.csv  saved\n",
      "Get data for:  ADR.JO\n",
      "C:\\Users\\hilton.netta\\py\\Python4Finance\\StockData\\\\ADR_JO.csv  saved\n",
      "Get data for:  ANA.JO\n",
      "- ANA.JO: No data found, symbol may be delisted\n",
      "C:\\Users\\hilton.netta\\py\\Python4Finance\\StockData\\\\ANA_JO.csv  saved\n",
      "Get data for:  AVL.JO\n",
      "C:\\Users\\hilton.netta\\py\\Python4Finance\\StockData\\\\AVL_JO.csv  saved\n",
      "Get data for:  ADH.JO\n",
      "C:\\Users\\hilton.netta\\py\\Python4Finance\\StockData\\\\ADH_JO.csv  saved\n",
      "Get data for:  AFE.JO\n",
      "C:\\Users\\hilton.netta\\py\\Python4Finance\\StockData\\\\AFE_JO.csv  saved\n",
      "Get data for:  AEY.JO\n",
      "- AEY.JO: No data found, symbol may be delisted\n",
      "C:\\Users\\hilton.netta\\py\\Python4Finance\\StockData\\\\AEY_JO.csv  saved\n",
      "Get data for:  AOO.JO\n",
      "C:\\Users\\hilton.netta\\py\\Python4Finance\\StockData\\\\AOO_JO.csv  saved\n",
      "Get data for:  ABL.JO\n",
      "- ABL.JO: No data found, symbol may be delisted\n",
      "C:\\Users\\hilton.netta\\py\\Python4Finance\\StockData\\\\ABL_JO.csv  saved\n",
      "Get data for:  ADW.JO\n",
      "C:\\Users\\hilton.netta\\py\\Python4Finance\\StockData\\\\ADW_JO.csv  saved\n",
      "Get data for:  AEA.JO\n",
      "- AEA.JO: No data found, symbol may be delisted\n",
      "C:\\Users\\hilton.netta\\py\\Python4Finance\\StockData\\\\AEA_JO.csv  saved\n",
      "Get data for:  AEE.JO\n",
      "C:\\Users\\hilton.netta\\py\\Python4Finance\\StockData\\\\AEE_JO.csv  saved\n",
      "Get data for:  AME.JO\n",
      "C:\\Users\\hilton.netta\\py\\Python4Finance\\StockData\\\\AME_JO.csv  saved\n",
      "Get data for:  AFX.JO\n",
      "- AFX.JO: No data found, symbol may be delisted\n",
      "C:\\Users\\hilton.netta\\py\\Python4Finance\\StockData\\\\AFX_JO.csv  saved\n",
      "Done\n"
     ]
    }
   ],
   "source": [
    "fldr = r'C:\\Users\\hilton.netta\\py\\Python4Finance\\StockData\\\\'\n",
    "for x in range(20):\n",
    "    save_to_csv_from_yahoo(fldr, tickers[x])\n",
    "print(\"Done\")"
   ]
  },
  {
   "cell_type": "code",
   "execution_count": null,
   "id": "f56c7ff7",
   "metadata": {},
   "outputs": [],
   "source": []
  }
 ],
 "metadata": {
  "kernelspec": {
   "display_name": "Python 3",
   "language": "python",
   "name": "python3"
  },
  "language_info": {
   "codemirror_mode": {
    "name": "ipython",
    "version": 3
   },
   "file_extension": ".py",
   "mimetype": "text/x-python",
   "name": "python",
   "nbconvert_exporter": "python",
   "pygments_lexer": "ipython3",
   "version": "3.8.8"
  }
 },
 "nbformat": 4,
 "nbformat_minor": 5
}
