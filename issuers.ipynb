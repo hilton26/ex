{
 "cells": [
  {
   "cell_type": "markdown",
   "id": "7f5c6c29",
   "metadata": {},
   "source": [
    "### Resources\n",
    " \n",
    " 'else' in a list comprehension<br>\n",
    " https://stackoverflow.com/questions/2951701/is-it-possible-to-use-else-in-a-list-comprehension\n",
    " \n",
    "convert string to variable<br>\n",
    "https://www.codeproject.com/Questions/1222606/Python-convert-string-and-variable-to-list-name\n",
    "\n",
    "Apply function to each element of a list<br>\n",
    "https://stackoverflow.com/questions/25082410/apply-function-to-each-element-of-a-list"
   ]
  },
  {
   "cell_type": "code",
   "execution_count": 5,
   "id": "42be5ea1",
   "metadata": {},
   "outputs": [],
   "source": [
    "# libraries, libraries!\n",
    "import pandas as pd\n",
    "import numpy as np # for \n",
    "import re # for RegEx\n",
    "from re import search\n",
    "from datetime import datetime"
   ]
  },
  {
   "cell_type": "code",
   "execution_count": 6,
   "id": "9057a14d",
   "metadata": {},
   "outputs": [],
   "source": [
    "# set paths\n",
    "pthPy         = r'C:\\Users\\hilton.netta\\OneDrive - Prescient\\py' # path to Py stuff in working folder\n",
    "pthCompliance = r'P:\\Investment Operations\\GRC\\Compliance' # path to PIM Compliance folder\n",
    "pthW          = r'P:\\Working Folders\\Hilton\\W'"
   ]
  },
  {
   "cell_type": "code",
   "execution_count": 74,
   "id": "28fefca8",
   "metadata": {},
   "outputs": [],
   "source": [
    "# get regex structure dataframes\n",
    "structures = pthPy + r'\\structures.xlsx'\n",
    "\n",
    "# import the regex date formats\n",
    "dfrgx = pd.read_excel(structures, sheet_name       = 'dates')\n",
    "\n",
    "# import the list of accrual line items, #https://datatofish.com/pandas-dataframe-to-series/\n",
    "accr        = pd.read_excel(structures, sheet_name = 'accr', usecols = ['accruals'])\n",
    "marg        = pd.read_excel(structures, sheet_name = 'accr', usecols = ['margins'])\n",
    "accr_list   = [x for e in accr.values.tolist() for x in e] #https://bobbyhadz.com/blog/python-remove-square-brackets-from-list\n",
    "margin_list = [x for e in marg.values.tolist() for x in e]\n",
    "\n",
    "# import the regex CLN formats\n",
    "clnrgx = pd.read_excel(structures, sheet_name      = 'cln')\n",
    "\n",
    "# import the regex FRN formats\n",
    "frnrgx = pd.read_excel(structures, sheet_name      = 'frn')\n",
    "\n",
    "# import South African holidays\n",
    "sa_hols = pd.read_excel(structures, sheet_name     = 'hols', usecols = ['sa_hols'])\n",
    "\n",
    "# import issuer regex formats, sans NaNs # https://stackoverflow.com/questions/46218652/python-pandas-unique-value-ignoring-nan\n",
    "issrgx = pd.read_excel(structures, sheet_name      = 'issuers', usecols = ['description', 'id', 'name']) # a pandas dataframe\n",
    "#rgxid = issrgx['id'].dropna()\n",
    "\n",
    "#issrgx_id = pd.read_excel(structures, sheet_name   = 'issuers', usecols = ['id', 'name'])\n",
    "rgx_id = issrgx_id['id'].dropna() # this is now a pandas series\n",
    "\n",
    "#issrgx_desc = pd.read_excel(structures, sheet_name = 'issuers', usecols = ['description', 'name'])\n",
    "rgx_desc = issrgx_desc['description'].dropna() # this is now a pandas series\n",
    "\n",
    "# import CLNs\n",
    "clns = pd.read_excel(pthCompliance + r'\\MCaps\\CLNs.xlsx', sheet_name = 'CLN')\n",
    "\n",
    "# import custodian accounts\n",
    "sttlmnt = pd.read_excel(pthCompliance + r'\\Daily\\2A - Fund Codes, Breach Register.xlsx', sheet_name = 'Sttlmnt', usecols=\"A,K,L\") # only \"Fund\", \"Custodian\", and \"SAFEX\" columns\n",
    "\n",
    "# import CMS circular\n",
    "med = pd.read_excel(pthCompliance + r'\\Medical Schemes\\20220117 MSA Circ6 Categorisations.xlsx', sheet_name = 'JSEEquity31Dec2021')\n",
    "\n",
    "# import the Reg 28 file with all issuer codes assigned a named issuer\n",
    "Reg28_basis = pd.read_excel(pthW + r'\\!Reg28Worx 30Jun2022.xlsx')"
   ]
  },
  {
   "cell_type": "code",
   "execution_count": 76,
   "id": "2b61d9ad",
   "metadata": {},
   "outputs": [
    {
     "name": "stdout",
     "output_type": "stream",
     "text": [
      "Mercedes-Benz South Africa (Pty) Ltd True\n"
     ]
    }
   ],
   "source": [
    "# function to derive ISSUER from INSTRUMENT DESCRIPTION (\"i Issue Name\" column)\n",
    "def issuer_desc(txt):\n",
    "    for pattern in issrgx['description']:\n",
    "        if re.search(pattern, txt.upper()):\n",
    "            return issrgx.loc[issrgx['description'] == pattern].iat[0,2] # note 'break' within the for loop   \n",
    "            break\n",
    "        \n",
    "test_txt_1 = 'The quick brown fox jumped mercedes over the lazy dog.'\n",
    "print(issuer_desc(test_txt_1), isinstance(issuer_desc(test_txt_1), str)) # test if a variable is a string\n",
    "# https://pythonprinciples.com/blog/check-if-var-is-string/"
   ]
  },
  {
   "cell_type": "code",
   "execution_count": 78,
   "id": "6c01a506",
   "metadata": {},
   "outputs": [
    {
     "name": "stdout",
     "output_type": "stream",
     "text": [
      "Mercedes-Benz South Africa (Pty) Ltd True\n"
     ]
    }
   ],
   "source": [
    "# function to derive ISSUER from INSTRUMENT DESCRIPTION (\"i Issue Name\" column)\n",
    "def issuer_desc(txt):\n",
    "    for pattern in rgx_desc:\n",
    "        if re.search(pattern, txt.upper()):\n",
    "            return issrgx.loc[issrgx['description'] == pattern].iat[0,2] # note 'break' within the for loop   \n",
    "            break\n",
    "        \n",
    "test_txt_1 = 'The quick brown fox jumped mercedes over the lazy dog.'\n",
    "print(issuer_desc(test_txt_1), isinstance(issuer_desc(test_txt_1), str)) # test if a variable is a string\n",
    "# https://pythonprinciples.com/blog/check-if-var-is-string/"
   ]
  },
  {
   "cell_type": "code",
   "execution_count": 79,
   "id": "58da54e1",
   "metadata": {},
   "outputs": [
    {
     "name": "stdout",
     "output_type": "stream",
     "text": [
      "Standard Bank Group Ltd\n"
     ]
    }
   ],
   "source": [
    "# function to derive ISSUER from INSTRUMENT ID (\"Primary Asset ID\" column)\n",
    "def issuer_id(txt):\n",
    "    for pattern in rgx_id:\n",
    "        if re.search(pattern, txt.upper()): # check if the pattern exists in the txt\n",
    "            return issrgx.loc[issrgx['id'] == pattern].iat[0,2] # note the 'break' within the for loop \n",
    "            break\n",
    "\n",
    "test_txt_2 = 'SBT054 the lazy dog'\n",
    "print(issuer_id(test_txt_2))"
   ]
  },
  {
   "cell_type": "code",
   "execution_count": 80,
   "id": "9c35adff",
   "metadata": {},
   "outputs": [],
   "source": [
    "# utility function to open an excel file, .xls or .xlsx\n",
    "def open_xl_file(file_name_and_path):\n",
    "    import win32com.client as win32 # library to convert xls to xlsx\n",
    "    excel = win32.gencache.EnsureDispatch('Excel.Application')\n",
    "    excel.DisplayAlerts = False # suppress the warning dialogue\n",
    "    excel.Workbooks.Open(file_name_and_path)\n",
    "    excel.DisplayAlerts = True # unsuppress the warning dialogue"
   ]
  },
  {
   "cell_type": "code",
   "execution_count": 81,
   "id": "260de7b9",
   "metadata": {},
   "outputs": [
    {
     "data": {
      "text/plain": [
       "'17Aug2013'"
      ]
     },
     "execution_count": 81,
     "metadata": {},
     "output_type": "execute_result"
    }
   ],
   "source": [
    "# function that extracts date from string\n",
    "def datex(txt):\n",
    "    try:\n",
    "        for pattern in dfrgx['date_regex']:\n",
    "            if re.search(pattern, txt.title()):\n",
    "                break\n",
    "        return datetime.strptime(re.search(pattern, txt.title()).group(),dfrgx.loc[dfrgx['date_regex'] == pattern].iat[0,1]).strftime(\"%d%b%Y\")\n",
    "\n",
    "    # manage exceptions:\n",
    "    except ValueError as ve:\n",
    "        print(f'ValueError {ve}')\n",
    "    except TypeError as te:\n",
    "        print(f'TypeError {te}')\n",
    "    except AttributeError as ae:\n",
    "        print(f'AttributeError {ae}')\n",
    "        \n",
    "#test the datex function\n",
    "txt = \"BNP Paribas Personal Finance SA Ltd FRN BPPF31 Jb3+95 17-Aug-13\"\n",
    "datex(txt)"
   ]
  },
  {
   "cell_type": "code",
   "execution_count": 88,
   "id": "7bb7b8ef",
   "metadata": {},
   "outputs": [
    {
     "name": "stdout",
     "output_type": "stream",
     "text": [
      "None <class 'NoneType'> 1 <class 'int'> 1 <class 'int'>\n"
     ]
    }
   ],
   "source": [
    "# functions to extract CLN, FRN, NCD, ILB\n",
    "def cln(txt):\n",
    "    for pattern in clnrgx['regex']:\n",
    "        if re.search(pattern, txt.upper()): \n",
    "            #return clnrgx.loc[clnrgx['regex'] == pattern].iat[0,2] # note 'break' below the first 'for'   \n",
    "            return 1\n",
    "        break\n",
    "        \n",
    "def frn(txt):\n",
    "    for pattern in frnrgx['regex']:\n",
    "        if re.search(pattern, txt.upper()): \n",
    "            #return frnrgx.loc[frnrgx['regex'] == pattern].iat[0,2] # note 'break' below the first 'for' \n",
    "            return 1\n",
    "        break\n",
    "        \n",
    "# import the regex ILB formats\n",
    "ilbrgx = pd.read_excel(structures, sheet_name = 'ilb')\n",
    "def ilb(txt):\n",
    "    for pattern in ilbrgx['regex']:\n",
    "        if re.search(pattern, txt.upper()): \n",
    "            #return ilbrgx.loc[ilbrgx['regex'] == pattern].iat[0,2] # note the 'break' below the first 'for'  \n",
    "            return 1\n",
    "        break       \n",
    "        \n",
    "txt = 'de Barge inflation asn'\n",
    "print(frn(txt), type(frn(txt)), cln(txt), type(cln(txt)), ilb(txt), type(ilb(txt)))"
   ]
  },
  {
   "cell_type": "code",
   "execution_count": 89,
   "id": "d67f7e28",
   "metadata": {},
   "outputs": [],
   "source": [
    "# function that creates a new column based on the values of othe columns\n",
    "# Check if an element is in a list https://www.geeksforgeeks.org/check-if-element-exists-in-list-in-python/\n",
    "def categorise(row):\n",
    "    t = issuer_desc(row['i Issue Name'])                                   # create a temp so the function only gets called once\n",
    "    g = issuer_id(row['Primary Asset ID'])                                 # create a temp so the function only gets called once\n",
    "    if row['Primary Asset ID'] in accr_list:                               # item is an accrual\n",
    "        return sttlmnt.loc[sttlmnt['Fund'] == row['Entity Name']].iat[0,1]\n",
    "    elif row['Investment Type'] == 'SYTH' and row['CCY'] != 'ZAR':         # item is non-ZAR synthetic cash\n",
    "        return sttlmnt.loc[sttlmnt['Fund'] == row['Entity Name']].iat[0,1]\n",
    "    elif row['Investment Type'] == 'SYTH' and row['CCY'] == 'ZAR':         # item is ZAR synthetic cash\n",
    "        return sttlmnt.loc[sttlmnt['Fund'] == row['Entity Name']].iat[0,2]\n",
    "    elif row['Primary Asset ID'] in margin_list:                           # item is a margin account (initial or variation)\n",
    "        return sttlmnt.loc[sttlmnt['Fund'] == row['Entity Name']].iat[0,2]\n",
    "    #elif cln(row['i Issue Name']) == 1:                                    # item is a CLN\n",
    "        #return sttlmnt.loc[sttlmnt['Fund'] == row['Entity Name']].iat[0,2]\n",
    "    elif isinstance(t, str):                                               # INSTRUMENT DESCRIPTION is a hit ...\n",
    "        return t\n",
    "    elif isinstance(g, str):                                               # INSTRUMENT ID is a hit ...\n",
    "        return g\n",
    "    return '-xxx-'"
   ]
  },
  {
   "cell_type": "code",
   "execution_count": 90,
   "id": "7eb2c02a",
   "metadata": {},
   "outputs": [],
   "source": [
    "# (1) read in a Reg 28 file from Eagle as a dataframe called 'example' to use as an input\n",
    "example = pd.read_excel(pthW + r'\\Reg 28 Report - test.xlsx')"
   ]
  },
  {
   "cell_type": "code",
   "execution_count": 91,
   "id": "c0912d7b",
   "metadata": {},
   "outputs": [
    {
     "name": "stdout",
     "output_type": "stream",
     "text": [
      "AttributeError 'NoneType' object has no attribute 'group'\n",
      "AttributeError 'NoneType' object has no attribute 'group'\n",
      "AttributeError 'NoneType' object has no attribute 'group'\n",
      "AttributeError 'NoneType' object has no attribute 'group'\n",
      "AttributeError 'NoneType' object has no attribute 'group'\n",
      "AttributeError 'NoneType' object has no attribute 'group'\n",
      "AttributeError 'NoneType' object has no attribute 'group'\n",
      "AttributeError 'NoneType' object has no attribute 'group'\n",
      "AttributeError 'NoneType' object has no attribute 'group'\n",
      "AttributeError 'NoneType' object has no attribute 'group'\n",
      "AttributeError 'NoneType' object has no attribute 'group'\n",
      "AttributeError 'NoneType' object has no attribute 'group'\n",
      "AttributeError 'NoneType' object has no attribute 'group'\n",
      "AttributeError 'NoneType' object has no attribute 'group'\n",
      "AttributeError 'NoneType' object has no attribute 'group'\n",
      "AttributeError 'NoneType' object has no attribute 'group'\n",
      "AttributeError 'NoneType' object has no attribute 'group'\n",
      "AttributeError 'NoneType' object has no attribute 'group'\n",
      "AttributeError 'NoneType' object has no attribute 'group'\n",
      "AttributeError 'NoneType' object has no attribute 'group'\n",
      "AttributeError 'NoneType' object has no attribute 'group'\n",
      "AttributeError 'NoneType' object has no attribute 'group'\n",
      "AttributeError 'NoneType' object has no attribute 'group'\n",
      "AttributeError 'NoneType' object has no attribute 'group'\n",
      "AttributeError 'NoneType' object has no attribute 'group'\n",
      "AttributeError 'NoneType' object has no attribute 'group'\n",
      "AttributeError 'NoneType' object has no attribute 'group'\n",
      "AttributeError 'NoneType' object has no attribute 'group'\n",
      "AttributeError 'NoneType' object has no attribute 'group'\n",
      "AttributeError 'NoneType' object has no attribute 'group'\n",
      "AttributeError 'NoneType' object has no attribute 'group'\n",
      "AttributeError 'NoneType' object has no attribute 'group'\n",
      "AttributeError 'NoneType' object has no attribute 'group'\n",
      "AttributeError 'NoneType' object has no attribute 'group'\n",
      "AttributeError 'NoneType' object has no attribute 'group'\n",
      "AttributeError 'NoneType' object has no attribute 'group'\n",
      "AttributeError 'NoneType' object has no attribute 'group'\n",
      "AttributeError 'NoneType' object has no attribute 'group'\n",
      "AttributeError 'NoneType' object has no attribute 'group'\n",
      "AttributeError 'NoneType' object has no attribute 'group'\n",
      "AttributeError 'NoneType' object has no attribute 'group'\n",
      "AttributeError 'NoneType' object has no attribute 'group'\n",
      "AttributeError 'NoneType' object has no attribute 'group'\n",
      "AttributeError 'NoneType' object has no attribute 'group'\n",
      "AttributeError 'NoneType' object has no attribute 'group'\n",
      "AttributeError 'NoneType' object has no attribute 'group'\n",
      "AttributeError 'NoneType' object has no attribute 'group'\n",
      "AttributeError 'NoneType' object has no attribute 'group'\n",
      "AttributeError 'NoneType' object has no attribute 'group'\n",
      "AttributeError 'NoneType' object has no attribute 'group'\n",
      "AttributeError 'NoneType' object has no attribute 'group'\n",
      "AttributeError 'NoneType' object has no attribute 'group'\n",
      "AttributeError 'NoneType' object has no attribute 'group'\n",
      "AttributeError 'NoneType' object has no attribute 'group'\n",
      "AttributeError 'NoneType' object has no attribute 'group'\n",
      "AttributeError 'NoneType' object has no attribute 'group'\n",
      "AttributeError 'NoneType' object has no attribute 'group'\n",
      "AttributeError 'NoneType' object has no attribute 'group'\n",
      "AttributeError 'NoneType' object has no attribute 'group'\n",
      "AttributeError 'NoneType' object has no attribute 'group'\n",
      "AttributeError 'NoneType' object has no attribute 'group'\n",
      "AttributeError 'NoneType' object has no attribute 'group'\n",
      "AttributeError 'NoneType' object has no attribute 'group'\n",
      "AttributeError 'NoneType' object has no attribute 'group'\n",
      "AttributeError 'NoneType' object has no attribute 'group'\n",
      "AttributeError 'NoneType' object has no attribute 'group'\n",
      "AttributeError 'NoneType' object has no attribute 'group'\n",
      "AttributeError 'NoneType' object has no attribute 'group'\n",
      "AttributeError 'NoneType' object has no attribute 'group'\n",
      "AttributeError 'NoneType' object has no attribute 'group'\n",
      "AttributeError 'NoneType' object has no attribute 'group'\n",
      "AttributeError 'NoneType' object has no attribute 'group'\n",
      "AttributeError 'NoneType' object has no attribute 'group'\n",
      "AttributeError 'NoneType' object has no attribute 'group'\n",
      "AttributeError 'NoneType' object has no attribute 'group'\n",
      "AttributeError 'NoneType' object has no attribute 'group'\n",
      "AttributeError 'NoneType' object has no attribute 'group'\n",
      "AttributeError 'NoneType' object has no attribute 'group'\n",
      "AttributeError 'NoneType' object has no attribute 'group'\n",
      "AttributeError 'NoneType' object has no attribute 'group'\n",
      "AttributeError 'NoneType' object has no attribute 'group'\n",
      "AttributeError 'NoneType' object has no attribute 'group'\n",
      "AttributeError 'NoneType' object has no attribute 'group'\n",
      "AttributeError 'NoneType' object has no attribute 'group'\n",
      "AttributeError 'NoneType' object has no attribute 'group'\n",
      "AttributeError 'NoneType' object has no attribute 'group'\n",
      "AttributeError 'NoneType' object has no attribute 'group'\n",
      "AttributeError 'NoneType' object has no attribute 'group'\n",
      "AttributeError 'NoneType' object has no attribute 'group'\n",
      "AttributeError 'NoneType' object has no attribute 'group'\n",
      "AttributeError 'NoneType' object has no attribute 'group'\n",
      "AttributeError 'NoneType' object has no attribute 'group'\n",
      "AttributeError 'NoneType' object has no attribute 'group'\n",
      "AttributeError 'NoneType' object has no attribute 'group'\n",
      "AttributeError 'NoneType' object has no attribute 'group'\n",
      "AttributeError 'NoneType' object has no attribute 'group'\n",
      "AttributeError 'NoneType' object has no attribute 'group'\n",
      "AttributeError 'NoneType' object has no attribute 'group'\n",
      "AttributeError 'NoneType' object has no attribute 'group'\n",
      "AttributeError 'NoneType' object has no attribute 'group'\n",
      "AttributeError 'NoneType' object has no attribute 'group'\n",
      "AttributeError 'NoneType' object has no attribute 'group'\n",
      "AttributeError 'NoneType' object has no attribute 'group'\n",
      "ValueError unconverted data remains: 0\n",
      "ValueError unconverted data remains: 2\n",
      "ValueError unconverted data remains: 0\n",
      "ValueError unconverted data remains: 2\n",
      "ValueError unconverted data remains: 1\n",
      "ValueError unconverted data remains: 3\n",
      "ValueError unconverted data remains: 4\n",
      "ValueError unconverted data remains: 4\n",
      "ValueError unconverted data remains: 8\n",
      "ValueError unconverted data remains: 0\n",
      "ValueError unconverted data remains: 4\n",
      "ValueError unconverted data remains: 7\n",
      "ValueError unconverted data remains: 2\n",
      "ValueError unconverted data remains: 1\n",
      "ValueError unconverted data remains: 8\n",
      "ValueError unconverted data remains: 2\n",
      "ValueError unconverted data remains: 1\n",
      "ValueError unconverted data remains: 7\n",
      "ValueError unconverted data remains: 0\n",
      "ValueError unconverted data remains: 4\n",
      "ValueError unconverted data remains: 4\n",
      "ValueError unconverted data remains: 5\n",
      "ValueError unconverted data remains: 0\n",
      "ValueError time data '50 2.25' does not match format '%d.%m.%y'\n",
      "AttributeError 'NoneType' object has no attribute 'group'\n",
      "ValueError unconverted data remains: 5\n",
      "AttributeError 'NoneType' object has no attribute 'group'\n",
      "AttributeError 'NoneType' object has no attribute 'group'\n",
      "AttributeError 'NoneType' object has no attribute 'group'\n",
      "AttributeError 'NoneType' object has no attribute 'group'\n",
      "AttributeError 'NoneType' object has no attribute 'group'\n",
      "AttributeError 'NoneType' object has no attribute 'group'\n",
      "AttributeError 'NoneType' object has no attribute 'group'\n",
      "AttributeError 'NoneType' object has no attribute 'group'\n"
     ]
    }
   ],
   "source": [
    "# (2) identify instrument attributes\n",
    "# Map an if statement in Python: https://stackoverflow.com/questions/29247718/map-an-if-statement-in-python\n",
    "example['CLN']    = example['i Issue Name'].map(cln)\n",
    "example['FRN']    = example['i Issue Name'].map(frn)\n",
    "example['ILB']    = example['i Issue Name'].map(ilb)\n",
    "example['Date']   = example['i Issue Name'].map(datex)\n",
    "example['Issuer'] = example.apply(lambda row: categorise(row), axis=1)"
   ]
  },
  {
   "cell_type": "code",
   "execution_count": 92,
   "id": "c6b24274",
   "metadata": {},
   "outputs": [
    {
     "name": "stdout",
     "output_type": "stream",
     "text": [
      "0\n"
     ]
    }
   ],
   "source": [
    "# (3) identify absent issuers\n",
    "no_issuer = example[example['Issuer'] == '-xxx-']\n",
    "print(len(no_issuer.Issuer))"
   ]
  },
  {
   "cell_type": "code",
   "execution_count": 93,
   "id": "1c7409b7",
   "metadata": {},
   "outputs": [],
   "source": [
    "# (4) write the results to a new excel file\n",
    "writer = pd.ExcelWriter(pthW + r'\\Reg 28 Report - results.xlsx', engine = 'xlsxwriter')\n",
    "\n",
    "example.to_excel(   writer, index = False, sheet_name = 'results')\n",
    "no_issuer.to_excel( writer, index = False, sheet_name = 'no issuers')\n",
    "\n",
    "writer.save()\n",
    "#open_xl_file(      pthW + r'\\Reg 28 Report - result2.xlsx') # open the results file"
   ]
  },
  {
   "cell_type": "code",
   "execution_count": null,
   "id": "14503881",
   "metadata": {},
   "outputs": [],
   "source": []
  },
  {
   "cell_type": "code",
   "execution_count": null,
   "id": "ed0cf463",
   "metadata": {},
   "outputs": [],
   "source": []
  },
  {
   "cell_type": "code",
   "execution_count": null,
   "id": "672303fe",
   "metadata": {},
   "outputs": [],
   "source": []
  },
  {
   "cell_type": "code",
   "execution_count": null,
   "id": "6df0cc6e",
   "metadata": {},
   "outputs": [],
   "source": []
  },
  {
   "cell_type": "code",
   "execution_count": 43,
   "id": "afac84ff",
   "metadata": {},
   "outputs": [
    {
     "data": {
      "text/plain": [
       "'C:\\\\Users\\\\hilton.netta\\\\OneDrive - Prescient\\\\py\\\\structures.xlsx'"
      ]
     },
     "execution_count": 43,
     "metadata": {},
     "output_type": "execute_result"
    }
   ],
   "source": []
  },
  {
   "cell_type": "code",
   "execution_count": 10,
   "id": "74070ffd",
   "metadata": {
    "collapsed": true
   },
   "outputs": [
    {
     "ename": "NameError",
     "evalue": "name 'example' is not defined",
     "output_type": "error",
     "traceback": [
      "\u001b[1;31m---------------------------------------------------------------------------\u001b[0m",
      "\u001b[1;31mNameError\u001b[0m                                 Traceback (most recent call last)",
      "Input \u001b[1;32mIn [10]\u001b[0m, in \u001b[0;36m<cell line: 2>\u001b[1;34m()\u001b[0m\n\u001b[0;32m      1\u001b[0m \u001b[38;5;66;03m# delete a column in the 'example' dataframe\u001b[39;00m\n\u001b[1;32m----> 2\u001b[0m example \u001b[38;5;241m=\u001b[39m \u001b[43mexample\u001b[49m\u001b[38;5;241m.\u001b[39mdrop(\u001b[38;5;124m'\u001b[39m\u001b[38;5;124mIssuer_Name\u001b[39m\u001b[38;5;124m'\u001b[39m, axis\u001b[38;5;241m=\u001b[39m\u001b[38;5;241m1\u001b[39m)\n\u001b[0;32m      3\u001b[0m example \u001b[38;5;241m=\u001b[39m example\u001b[38;5;241m.\u001b[39mdrop(\u001b[38;5;124m'\u001b[39m\u001b[38;5;124mCLN\u001b[39m\u001b[38;5;124m'\u001b[39m, axis\u001b[38;5;241m=\u001b[39m\u001b[38;5;241m1\u001b[39m) \n\u001b[0;32m      4\u001b[0m example \u001b[38;5;241m=\u001b[39m example\u001b[38;5;241m.\u001b[39mdrop(\u001b[38;5;124m'\u001b[39m\u001b[38;5;124mFRN\u001b[39m\u001b[38;5;124m'\u001b[39m, axis\u001b[38;5;241m=\u001b[39m\u001b[38;5;241m1\u001b[39m) \n",
      "\u001b[1;31mNameError\u001b[0m: name 'example' is not defined"
     ]
    }
   ],
   "source": [
    "# delete a column in the 'example' dataframe\n",
    "example = example.drop('Issuer_Name', axis=1)\n",
    "example = example.drop('CLN', axis=1) \n",
    "example = example.drop('FRN', axis=1) \n",
    "example = example.drop('ILB', axis=1) \n",
    "example = example.drop('Date', axis=1)"
   ]
  }
 ],
 "metadata": {
  "kernelspec": {
   "display_name": "Python 3 (ipykernel)",
   "language": "python",
   "name": "python3"
  },
  "language_info": {
   "codemirror_mode": {
    "name": "ipython",
    "version": 3
   },
   "file_extension": ".py",
   "mimetype": "text/x-python",
   "name": "python",
   "nbconvert_exporter": "python",
   "pygments_lexer": "ipython3",
   "version": "3.9.12"
  }
 },
 "nbformat": 4,
 "nbformat_minor": 5
}
