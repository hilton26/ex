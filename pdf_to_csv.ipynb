{
 "cells": [
  {
   "cell_type": "markdown",
   "id": "40ce9cb2",
   "metadata": {},
   "source": [
    "How to convert PDF files to Excel files using Python?<br>\n",
    "https://www.tutorialspoint.com/how-to-convert-pdf-files-to-excel-files-using-python\n",
    "\n",
    "tabula-py: Read tables in a PDF into DataFrame<br>\n",
    "https://tabula-py.readthedocs.io/en/latest/"
   ]
  },
  {
   "cell_type": "code",
   "execution_count": 3,
   "id": "f7062f8a",
   "metadata": {},
   "outputs": [
    {
     "name": "stdout",
     "output_type": "stream",
     "text": [
      "     Unnamed: 0  Unnamed: 1  Unnamed: 2  Unnamed: 3 Unnamed: 4 Unnamed: 5  \\\n",
      "0           NaN         NaN         NaN         NaN        NaN          B   \n",
      "1           NaN         NaN         NaN         NaN        NaN        NaN   \n",
      "2           NaN         1.0         NaN         NaN        NaN        NaN   \n",
      "3           NaN         NaN         NaN         NaN        NaN        NaN   \n",
      "4           NaN         2.0         NaN         NaN        NaN        NaN   \n",
      "..          ...         ...         ...         ...        ...        ...   \n",
      "418         NaN         NaN         NaN         NaN        NaN        NaN   \n",
      "419         NaN        21.0         NaN         NaN        NaN        NaN   \n",
      "420         NaN         NaN         NaN         NaN        NaN        NaN   \n",
      "421         NaN        21.0         NaN         NaN        NaN        NaN   \n",
      "422         NaN         NaN         NaN         NaN        NaN        NaN   \n",
      "\n",
      "    Unnamed: 6 Unnamed: 7 Unnamed: 8 Unnamed: 9  ... Unnamed: 54 Unnamed: 55  \\\n",
      "0          NaN          C        NaN          E  ...         NaN         NaN   \n",
      "1          NaN        NaN        NaN        NaN  ...         NaN         NaN   \n",
      "2          NaN        NaN        NaN        NaN  ...         NaN         NaN   \n",
      "3          NaN        NaN        NaN        NaN  ...         NaN         NaN   \n",
      "4          NaN        NaN        NaN        NaN  ...         NaN         NaN   \n",
      "..         ...        ...        ...        ...  ...         ...         ...   \n",
      "418        NaN        NaN        NaN        NaN  ...         NaN         NaN   \n",
      "419        NaN        NaN        NaN        NaN  ...         NaN         NaN   \n",
      "420        NaN        NaN        NaN        NaN  ...         NaN         NaN   \n",
      "421        NaN        NaN        NaN        NaN  ...         NaN         NaN   \n",
      "422        NaN        NaN        NaN        NaN  ...         NaN         NaN   \n",
      "\n",
      "    Unnamed: 56 Unnamed: 57 Unnamed: 58 Unnamed: 59 Unnamed: 60 Unnamed: 61  \\\n",
      "0           NaN         NaN         NaN         NaN         NaN         NaN   \n",
      "1           NaN         NaN         NaN         NaN         NaN         NaN   \n",
      "2           NaN         NaN         NaN         NaN         NaN         NaN   \n",
      "3           NaN         NaN         NaN         NaN         NaN         NaN   \n",
      "4           NaN         NaN         NaN         NaN         NaN         NaN   \n",
      "..          ...         ...         ...         ...         ...         ...   \n",
      "418         NaN         NaN         NaN         NaN         NaN         NaN   \n",
      "419         NaN         NaN         NaN         NaN         NaN         NaN   \n",
      "420         NaN         NaN         NaN         NaN         NaN         NaN   \n",
      "421         NaN         NaN         NaN         NaN         NaN         NaN   \n",
      "422         NaN         NaN         NaN         NaN         NaN         NaN   \n",
      "\n",
      "    Unnamed: 62 Unnamed: 63  \n",
      "0           NaN         NaN  \n",
      "1           NaN         NaN  \n",
      "2           NaN         NaN  \n",
      "3           NaN         NaN  \n",
      "4           NaN         NaN  \n",
      "..          ...         ...  \n",
      "418         NaN         NaN  \n",
      "419         NaN         NaN  \n",
      "420         NaN         NaN  \n",
      "421         NaN         NaN  \n",
      "422         NaN         NaN  \n",
      "\n",
      "[423 rows x 64 columns]\n"
     ]
    }
   ],
   "source": [
    "# import the required module; was installed by: !pip install tabula-py\n",
    "\n",
    "import tabula\n",
    "from tabula import read_pdf\n",
    "\n",
    "# read a PDF File\n",
    "pth = r'C:\\Users\\hilton.netta\\Desktop'\n",
    "pthFrom = pth + '\\BTrdDm.pdf'\n",
    "pthTo = pth + '\\BTrdDm.csv'\n",
    "\n",
    "df = tabula.read_pdf(pthFrom, pages='all')[0]\n",
    "# convert pdf into csv\n",
    "tabula.convert_into(pthFrom, pthTo, output_format='csv', pages='all')\n",
    "print(df)"
   ]
  }
 ],
 "metadata": {
  "kernelspec": {
   "display_name": "Python 3",
   "language": "python",
   "name": "python3"
  },
  "language_info": {
   "codemirror_mode": {
    "name": "ipython",
    "version": 3
   },
   "file_extension": ".py",
   "mimetype": "text/x-python",
   "name": "python",
   "nbconvert_exporter": "python",
   "pygments_lexer": "ipython3",
   "version": "3.8.8"
  }
 },
 "nbformat": 4,
 "nbformat_minor": 5
}
